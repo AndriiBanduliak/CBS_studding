{
  "nbformat": 4,
  "nbformat_minor": 0,
  "metadata": {
    "colab": {
      "provenance": [],
      "toc_visible": true
    },
    "kernelspec": {
      "name": "python3",
      "display_name": "Python 3"
    },
    "language_info": {
      "name": "python"
    }
  },
  "cells": [
    {
      "cell_type": "markdown",
      "source": [
        "Завдання 2\n",
        "\n",
        "Створіть програму, яка перевіряє, чи є паліндромом введена фраза."
      ],
      "metadata": {
        "id": "AFwPnLZyIsUY"
      }
    },
    {
      "cell_type": "code",
      "source": [
        "import re\n",
        "\n",
        "def is_palindrome(phrase):\n",
        "    cleaned_phrase = re.sub(r'[^a-zA-Zа-яА-Я0-9]', '', phrase).lower()\n",
        "\n",
        "    return cleaned_phrase == cleaned_phrase[::-1]\n",
        "\n",
        "user_phrase = input(\"Введіть фразу для перевірки на паліндром: \")\n",
        "\n",
        "if is_palindrome(user_phrase):\n",
        "    print(f'Фраза \"{user_phrase}\" є паліндромом.')\n",
        "else:\n",
        "    print(f'Фраза \"{user_phrase}\" не є паліндромом.')"
      ],
      "metadata": {
        "colab": {
          "base_uri": "https://localhost:8080/"
        },
        "id": "BPXqMT17LIQh",
        "outputId": "9bc72bbc-7253-4e80-b69d-acd6a1df2aeb"
      },
      "execution_count": 9,
      "outputs": [
        {
          "output_type": "stream",
          "name": "stdout",
          "text": [
            "Введіть фразу для перевірки на паліндром: йцуцй\n",
            "Фраза \"йцуцй\" є паліндромом.\n"
          ]
        }
      ]
    },
    {
      "cell_type": "markdown",
      "source": [
        "Завдання 3\n",
        "\n",
        "Нехай на кожну сходинку можна стати з попередньої або переступивши через одну. Визначте, скількома способами можна піднятися на задану сходинку."
      ],
      "metadata": {
        "id": "kiDU9NtRLQwW"
      }
    },
    {
      "cell_type": "code",
      "source": [
        "def count_climbing_ways(n):\n",
        "    if n <= 0:\n",
        "        return 0\n",
        "    if n == 1:\n",
        "        return 1\n",
        "    if n == 2:\n",
        "        return 2\n",
        "\n",
        "    a, b = 1, 2\n",
        "    for _ in range(3, n + 1):\n",
        "        a, b = b, a + b\n",
        "    return b\n",
        "\n",
        "try:\n",
        "    stairs_count = int(input(\"Введіть номер сходинки: \"))\n",
        "    if stairs_count <= 0:\n",
        "        print(\"Номер сходинки має бути натуральним числом.\")\n",
        "    else:\n",
        "        ways = count_climbing_ways(stairs_count)\n",
        "        print(f\"Існує {ways} способів піднятися на {stairs_count}-у сходинку.\")\n",
        "except ValueError:\n",
        "    print(\"Будь ласка, введіть ціле число.\")"
      ],
      "metadata": {
        "colab": {
          "base_uri": "https://localhost:8080/"
        },
        "id": "odpOtdsNLVYk",
        "outputId": "873dadc0-a562-476f-f530-7a1c1e036c37"
      },
      "execution_count": 10,
      "outputs": [
        {
          "output_type": "stream",
          "name": "stdout",
          "text": [
            "Введіть номер сходинки: 3\n",
            "Існує 3 способів піднятися на 3-у сходинку.\n"
          ]
        }
      ]
    },
    {
      "cell_type": "markdown",
      "source": [
        "Завдання 4\n",
        "\n",
        "Напишіть рекурсивну функцію, яка обчислює суму натуральних чисел, які входять до заданого проміжку."
      ],
      "metadata": {
        "id": "7eg04NS1Lc-A"
      }
    },
    {
      "cell_type": "markdown",
      "source": [],
      "metadata": {
        "id": "R_s9zFPULcsT"
      }
    },
    {
      "cell_type": "code",
      "source": [
        "def sum_in_range_recursive(start, end):\n",
        "    if start > end:\n",
        "        return 0\n",
        "    else:\n",
        "        return start + sum_in_range_recursive(start + 1, end)\n",
        "\n",
        "try:\n",
        "    start_num = int(input(\"Введіть початкове число проміжку: \"))\n",
        "    end_num = int(input(\"Введіть кінцеве число проміжку: \"))\n",
        "\n",
        "    if start_num > end_num:\n",
        "        print(\"Початкове число не може бути більшим за кінцеве.\")\n",
        "    else:\n",
        "        total_sum = sum_in_range_recursive(start_num, end_num)\n",
        "        print(f\"Сума чисел в проміжку від {start_num} до {end_num} дорівнює {total_sum}.\")\n",
        "\n",
        "except ValueError:\n",
        "    print(\"Будь ласка, введіть цілі числа.\")"
      ],
      "metadata": {
        "colab": {
          "base_uri": "https://localhost:8080/"
        },
        "id": "Ze7jJLTZLgBm",
        "outputId": "01d86bff-65e5-4210-fd4d-5353180b7692"
      },
      "execution_count": 11,
      "outputs": [
        {
          "output_type": "stream",
          "name": "stdout",
          "text": [
            "Введіть початкове число проміжку: 1\n",
            "Введіть кінцеве число проміжку: 4\n",
            "Сума чисел в проміжку від 1 до 4 дорівнює 10.\n"
          ]
        }
      ]
    },
    {
      "cell_type": "markdown",
      "source": [
        "Завдання 5\n",
        "\n",
        "Створіть функцію quadratic_equation, яка приймає на вхід 3 параметри: a, b, c. Усередині цієї функції створити змінні x1, x2 зі значенням None (спочатку приймаємо, що рівняння не має коренів) та функцію calc_rezult з формальними параметрами зовнішньої функції quadratic_equation. Всередині функції calc_rezult здійснити пошук дискримінанта, згідно з результатом якого зробити розрахунок коренів рівняння. Зовнішня функція quadratic_equation має повернути перелік значень коренів квадратного рівняння. Надати можливість користувачеві ввести з клавіатури формальні параметри для передачі їх у створену функцію quadratic_equation, результати роботи функції відобразити на екрані."
      ],
      "metadata": {
        "id": "iIYcM5dELl5A"
      }
    },
    {
      "cell_type": "code",
      "source": [
        "import math\n",
        "\n",
        "def quadratic_equation(a, b, c):\n",
        "    x1 = None\n",
        "    x2 = None\n",
        "\n",
        "    def calc_rezult(a, b, c):\n",
        "        nonlocal x1, x2\n",
        "\n",
        "        if a == 0:\n",
        "            if b != 0:\n",
        "                x1 = -c / b\n",
        "            return\n",
        "\n",
        "        discriminant = b**2 - 4 * a * c\n",
        "\n",
        "        if discriminant > 0:\n",
        "            x1 = (-b + math.sqrt(discriminant)) / (2 * a)\n",
        "            x2 = (-b - math.sqrt(discriminant)) / (2 * a)\n",
        "        elif discriminant == 0:\n",
        "            x1 = -b / (2 * a)\n",
        "\n",
        "    calc_rezult(a, b, c)\n",
        "\n",
        "    roots = []\n",
        "    if x1 is not None:\n",
        "        roots.append(x1)\n",
        "    if x2 is not None:\n",
        "        roots.append(x2)\n",
        "    return roots\n",
        "\n",
        "try:\n",
        "    a_coef = float(input(\"Введіть коефіцієнт a: \"))\n",
        "    b_coef = float(input(\"Введіть коефіцієнт b: \"))\n",
        "    c_coef = float(input(\"Введіть коефіцієнт c: \"))\n",
        "\n",
        "    solutions = quadratic_equation(a_coef, b_coef, c_coef)\n",
        "\n",
        "    # Виводимо результат\n",
        "    if not solutions:\n",
        "        print(\"Рівняння не має дійсних коренів.\")\n",
        "    elif len(solutions) == 1:\n",
        "        print(f\"Рівняння має один корінь: x = {solutions[0]}\")\n",
        "    else:\n",
        "        print(f\"Рівняння має два корені: x1 = {solutions[0]}, x2 = {solutions[1]}\")\n",
        "\n",
        "except ValueError:\n",
        "    print(\"Будь ласка, введіть числові значення для коефіцієнтів.\")"
      ],
      "metadata": {
        "colab": {
          "base_uri": "https://localhost:8080/"
        },
        "id": "SNMxJWPCLosi",
        "outputId": "c588ff4b-035c-40c5-df0c-09ce169e3118"
      },
      "execution_count": 12,
      "outputs": [
        {
          "output_type": "stream",
          "name": "stdout",
          "text": [
            "Введіть коефіцієнт a: 1\n",
            "Введіть коефіцієнт b: -5\n",
            "Введіть коефіцієнт c: 6\n",
            "Рівняння має два корені: x1 = 3.0, x2 = 2.0\n"
          ]
        }
      ]
    }
  ]
}