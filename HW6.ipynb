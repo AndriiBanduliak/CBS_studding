{
  "nbformat": 4,
  "nbformat_minor": 0,
  "metadata": {
    "colab": {
      "provenance": []
    },
    "kernelspec": {
      "name": "python3",
      "display_name": "Python 3"
    },
    "language_info": {
      "name": "python"
    }
  },
  "cells": [
    {
      "cell_type": "markdown",
      "source": [
        "Завдання 1\n",
        "\n",
        "Створіть список та введіть його значення. Знайдіть найбільший та найменший елемент списку, а також суму та середнє арифметичне його значень."
      ],
      "metadata": {
        "id": "G0nW-Zvm2WS1"
      }
    },
    {
      "cell_type": "code",
      "source": [
        "def analyze_list():\n",
        "    try:\n",
        "        user_input = input(\"Введіть числа для списку через пробіл: \")\n",
        "        numbers = [float(num) for num in user_input.split()]\n",
        "\n",
        "        if not numbers:\n",
        "            print(\"Список порожній.\")\n",
        "            return\n",
        "\n",
        "        max_val = max(numbers)\n",
        "        min_val = min(numbers)\n",
        "        sum_val = sum(numbers)\n",
        "        avg_val = sum_val / len(numbers)\n",
        "\n",
        "        print(f\"Список: {numbers}\")\n",
        "        print(f\"Найбільший елемент: {max_val}\")\n",
        "        print(f\"Найменший елемент: {min_val}\")\n",
        "        print(f\"Сума елементів: {sum_val}\")\n",
        "        print(f\"Середнє арифметичне: {avg_val}\")\n",
        "\n",
        "    except ValueError:\n",
        "        print(\"Помилка: вводьте тільки числа.\")\n",
        "    except ZeroDivisionError:\n",
        "        print(\"Список не може бути порожнім.\")\n",
        "\n",
        "\n",
        "analyze_list()"
      ],
      "metadata": {
        "colab": {
          "base_uri": "https://localhost:8080/"
        },
        "id": "wio4Ghkx2ceh",
        "outputId": "9f1dc02b-6b46-40ba-85f6-b367843efe77"
      },
      "execution_count": 1,
      "outputs": [
        {
          "output_type": "stream",
          "name": "stdout",
          "text": [
            "Введіть числа для списку через пробіл: 22 1 68 54 236\n",
            "Список: [22.0, 1.0, 68.0, 54.0, 236.0]\n",
            "Найбільший елемент: 236.0\n",
            "Найменший елемент: 1.0\n",
            "Сума елементів: 381.0\n",
            "Середнє арифметичне: 76.2\n"
          ]
        }
      ]
    },
    {
      "cell_type": "markdown",
      "source": [
        "Завдання 2\n",
        "\n",
        "Є два списки, які наповнюються користувачем з клавіатури. Сформувати список, в якому будуть міститися унікальні значення першого відносно другого списку та навпаки без повторень. Роздрукувати підсумковий об'єкт на екран в прямій послідовності, зворотній, а також виконати сортування за зростанням та спаданням."
      ],
      "metadata": {
        "id": "TtsrECxr2nIN"
      }
    },
    {
      "cell_type": "code",
      "source": [
        "def compare_lists():\n",
        "    try:\n",
        "        input1 = input(\"Введіть елементи першого списку через пробіл: \")\n",
        "        list1 = input1.split()\n",
        "\n",
        "        input2 = input(\"Введіть елементи другого списку через пробіл: \")\n",
        "        list2 = input2.split()\n",
        "\n",
        "        set1 = set(list1)\n",
        "        set2 = set(list2)\n",
        "\n",
        "        unique_elements = list(set1.symmetric_difference(set2))\n",
        "\n",
        "        print(f\"\\nУнікальні елементи: {unique_elements}\")\n",
        "        print(f\"У зворотному порядку: {unique_elements[::-1]}\")\n",
        "        print(f\"Відсортовані за зростанням: {sorted(unique_elements)}\")\n",
        "        print(f\"Відсортовані за спаданням: {sorted(unique_elements, reverse=True)}\")\n",
        "\n",
        "    except Exception as e:\n",
        "        print(f\"Виникла помилка: {e}\")\n",
        "\n",
        "\n",
        "compare_lists()"
      ],
      "metadata": {
        "colab": {
          "base_uri": "https://localhost:8080/"
        },
        "id": "KEIXOmjT2pUW",
        "outputId": "a608a043-c802-499e-f6d6-16443d37ca03"
      },
      "execution_count": 2,
      "outputs": [
        {
          "output_type": "stream",
          "name": "stdout",
          "text": [
            "Введіть елементи першого списку через пробіл: 15 365 вфв 24 36\n",
            "Введіть елементи другого списку через пробіл: 15 выфв 666 3122\n",
            "\n",
            "Унікальні елементи: ['36', 'выфв', 'вфв', '3122', '365', '666', '24']\n",
            "У зворотному порядку: ['24', '666', '365', '3122', 'вфв', 'выфв', '36']\n",
            "Відсортовані за зростанням: ['24', '3122', '36', '365', '666', 'вфв', 'выфв']\n",
            "Відсортовані за спаданням: ['выфв', 'вфв', '666', '365', '36', '3122', '24']\n"
          ]
        }
      ]
    },
    {
      "cell_type": "markdown",
      "source": [
        "Завдання 3\n",
        "\n",
        "Простим називається число, яке ділиться націло лише на одиницю і на саме себе. Число 1 не вважається простим. Напишіть програму, яка знаходить усі прості числа в заданому проміжку, виводить їх на екран, а потім на вимогу користувача виводить їхню суму або добуток."
      ],
      "metadata": {
        "id": "0YtkB14I2zvR"
      }
    },
    {
      "cell_type": "code",
      "source": [
        "def is_prime(num):\n",
        "    if num < 2:\n",
        "        return False\n",
        "    for i in range(2, int(num**0.5) + 1):\n",
        "        if num % i == 0:\n",
        "            return False\n",
        "    return True\n",
        "\n",
        "\n",
        "def prime_numbers_processor():\n",
        "    try:\n",
        "        start = int(input(\"Введіть початок діапазону: \"))\n",
        "        end = int(input(\"Введіть кінець діапазону: \"))\n",
        "\n",
        "        if start > end:\n",
        "            start, end = end, start\n",
        "\n",
        "        primes = [num for num in range(start, end + 1) if is_prime(num)]\n",
        "\n",
        "        print(f\"\\nПрості числа в діапазоні [{start}, {end}]: {primes}\")\n",
        "\n",
        "        if not primes:\n",
        "            print(\"Простих чисел у заданому діапазоні немає.\")\n",
        "            return\n",
        "\n",
        "        choice = input(\"Обчислити суму (введіть 'сума') чи добуток ('добуток')? \")\n",
        "\n",
        "        if choice.lower() == 'сума':\n",
        "            result = sum(primes)\n",
        "            print(f\"Сума простих чисел: {result}\")\n",
        "        elif choice.lower() == 'добуток':\n",
        "            result = 1\n",
        "            for p in primes:\n",
        "                result *= p\n",
        "            print(f\"Добуток простих чисел: {result}\")\n",
        "        else:\n",
        "            print(\"Невідома операція.\")\n",
        "\n",
        "    except ValueError:\n",
        "        print(\"Будь ласка, вводьте цілі числа для діапазону.\")\n",
        "\n",
        "\n",
        "prime_numbers_processor()"
      ],
      "metadata": {
        "colab": {
          "base_uri": "https://localhost:8080/"
        },
        "id": "o2bTXo0922lw",
        "outputId": "cf374017-3185-42ed-d76e-4081c6e449e2"
      },
      "execution_count": 3,
      "outputs": [
        {
          "output_type": "stream",
          "name": "stdout",
          "text": [
            "Введіть початок діапазону: 12 \n",
            "Введіть кінець діапазону: 658\n",
            "\n",
            "Прості числа в діапазоні [12, 658]: [13, 17, 19, 23, 29, 31, 37, 41, 43, 47, 53, 59, 61, 67, 71, 73, 79, 83, 89, 97, 101, 103, 107, 109, 113, 127, 131, 137, 139, 149, 151, 157, 163, 167, 173, 179, 181, 191, 193, 197, 199, 211, 223, 227, 229, 233, 239, 241, 251, 257, 263, 269, 271, 277, 281, 283, 293, 307, 311, 313, 317, 331, 337, 347, 349, 353, 359, 367, 373, 379, 383, 389, 397, 401, 409, 419, 421, 431, 433, 439, 443, 449, 457, 461, 463, 467, 479, 487, 491, 499, 503, 509, 521, 523, 541, 547, 557, 563, 569, 571, 577, 587, 593, 599, 601, 607, 613, 617, 619, 631, 641, 643, 647, 653]\n",
            "Обчислити суму (введіть 'сума') чи добуток ('добуток')? сума\n",
            "Сума простих чисел: 35540\n"
          ]
        }
      ]
    },
    {
      "cell_type": "markdown",
      "source": [
        "Завдання 4\n",
        "\n",
        "Створіть цілочисельний список, введіть кількість його елементів і самі значення. Передбачити меню, в якому: після натискання клавіші 1 ці значення виведуться на екран у зворотному порядку, а після натискання клавіші 2 – за зростанням."
      ],
      "metadata": {
        "id": "X33kZWD-3BBG"
      }
    },
    {
      "cell_type": "code",
      "source": [
        "def sort_list_menu():\n",
        "    try:\n",
        "        count = int(input(\"Введіть кількість елементів списку: \"))\n",
        "        numbers = []\n",
        "        for i in range(count):\n",
        "            num = int(input(f\"Введіть елемент №{i + 1}: \"))\n",
        "            numbers.append(num)\n",
        "\n",
        "        print(\"\\nМеню:\")\n",
        "        print(\"1 - Вивести у зворотному порядку\")\n",
        "        print(\"2 - Вивести за зростанням\")\n",
        "        choice = input(\"Ваш вибір: \")\n",
        "\n",
        "        if choice == '1':\n",
        "            print(f\"Результат: {numbers[::-1]}\")\n",
        "        elif choice == '2':\n",
        "            print(f\"Результат: {sorted(numbers)}\")\n",
        "        else:\n",
        "            print(\"Невірний вибір.\")\n",
        "\n",
        "    except ValueError:\n",
        "        print(\"Будь ласка, вводьте тільки цілі числа.\")\n",
        "\n",
        "\n",
        "sort_list_menu()"
      ],
      "metadata": {
        "colab": {
          "base_uri": "https://localhost:8080/"
        },
        "id": "rbc3-IVw3DtI",
        "outputId": "6a4cfe79-e475-4007-e95d-9bea1ad44386"
      },
      "execution_count": 6,
      "outputs": [
        {
          "output_type": "stream",
          "name": "stdout",
          "text": [
            "Введіть кількість елементів списку: 5\n",
            "Введіть елемент №1: 123\n",
            "Введіть елемент №2: 325\n",
            "Введіть елемент №3: 855\n",
            "Введіть елемент №4: 687\n",
            "Введіть елемент №5: 1546\n",
            "\n",
            "Меню:\n",
            "1 - Вивести у зворотному порядку\n",
            "2 - Вивести за зростанням\n",
            "Ваш вибір: 2\n",
            "Результат: [123, 325, 687, 855, 1546]\n"
          ]
        }
      ]
    },
    {
      "cell_type": "markdown",
      "source": [
        "Завдання 5\n",
        "\n",
        "Створіть список натуральних чисел int_list. Кожне непарне значення списку додайте до нового списку new_list. Користувач вводить з клавіатури кількість повторів списку repeat. Здійсніть дублювання списку new_list, repeat кількість разів. Очистіть список int_list."
      ],
      "metadata": {
        "id": "YsCQHeeR3VlJ"
      }
    },
    {
      "cell_type": "code",
      "source": [
        "def task_five():\n",
        "    try:\n",
        "        input_str = input(\"Введіть список натуральних чисел через пробіл: \")\n",
        "        int_list = [int(num) for num in input_str.split()]\n",
        "\n",
        "        new_list = [num for num in int_list if num % 2 != 0]\n",
        "        print(f\"Новий список з непарними значеннями: {new_list}\")\n",
        "\n",
        "        repeat = int(input(\"Введіть кількість повторів списку: \"))\n",
        "\n",
        "        duplicated_list = new_list * repeat\n",
        "        print(f\"Продубльований список: {duplicated_list}\")\n",
        "\n",
        "        int_list.clear()\n",
        "        print(f\"Початковий список після очищення: {int_list}\")\n",
        "\n",
        "    except ValueError:\n",
        "        print(\"Помилка: вводьте тільки натуральні числа.\")\n",
        "\n",
        "\n",
        "task_five()"
      ],
      "metadata": {
        "colab": {
          "base_uri": "https://localhost:8080/"
        },
        "id": "yJ2HHr7y3XuG",
        "outputId": "254b0e25-e05f-40f4-e39e-49915a1f4a1d"
      },
      "execution_count": 7,
      "outputs": [
        {
          "output_type": "stream",
          "name": "stdout",
          "text": [
            "Введіть список натуральних чисел через пробіл: 12 354 85 455\n",
            "Новий список з непарними значеннями: [85, 455]\n",
            "Введіть кількість повторів списку: 2\n",
            "Продубльований список: [85, 455, 85, 455]\n",
            "Початковий список після очищення: []\n"
          ]
        }
      ]
    },
    {
      "cell_type": "markdown",
      "source": [
        "Завдання 6\n",
        "\n",
        "Для цього завдання вихідний список значень беремо з підсумкового списку new_list завдання 5. Користувач вводить з клавіатури значення; якщо таке є у цьому списку — вивести кількість його повторів та його позицію у цьому списку."
      ],
      "metadata": {
        "id": "LFGqzV223slM"
      }
    },
    {
      "cell_type": "code",
      "source": [
        "def task_six():\n",
        "    try:\n",
        "        source_list_str = input(\"Введіть вихідний список значень через пробіл: \")\n",
        "        source_list = [int(num) for num in source_list_str.split()]\n",
        "\n",
        "        if not source_list:\n",
        "            print(\"Список не може бути порожнім.\")\n",
        "            return\n",
        "\n",
        "        search_value = int(input(\"Введіть значення для пошуку: \"))\n",
        "\n",
        "        if search_value in source_list:\n",
        "            count = source_list.count(search_value)\n",
        "            positions = [i for i, val in enumerate(source_list) if val == search_value]\n",
        "\n",
        "            print(f\"Значення {search_value} знайдено у списку.\")\n",
        "            print(f\"Кількість його повторів: {count}\")\n",
        "            print(f\"Його позиції (індекси): {positions}\")\n",
        "        else:\n",
        "            print(f\"Значення {search_value} у списку немає.\")\n",
        "\n",
        "    except ValueError:\n",
        "        print(\"Помилка: будь ласка, вводьте тільки цілі числа.\")\n",
        "\n",
        "\n",
        "task_six()"
      ],
      "metadata": {
        "colab": {
          "base_uri": "https://localhost:8080/"
        },
        "id": "M6qfA_TN3y_f",
        "outputId": "5c0ed78b-6d62-47cc-cb5d-6e39d561adc2"
      },
      "execution_count": 8,
      "outputs": [
        {
          "output_type": "stream",
          "name": "stdout",
          "text": [
            "Введіть вихідний список значень через пробіл: 1545 666 584 4563\n",
            "Введіть значення для пошуку: 1545\n",
            "Значення 1545 знайдено у списку.\n",
            "Кількість його повторів: 1\n",
            "Його позиції (індекси): [0]\n"
          ]
        }
      ]
    }
  ]
}