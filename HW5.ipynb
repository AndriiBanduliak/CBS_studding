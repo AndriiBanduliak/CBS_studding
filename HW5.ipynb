{
  "nbformat": 4,
  "nbformat_minor": 0,
  "metadata": {
    "colab": {
      "provenance": []
    },
    "kernelspec": {
      "name": "python3",
      "display_name": "Python 3"
    },
    "language_info": {
      "name": "python"
    }
  },
  "cells": [
    {
      "cell_type": "markdown",
      "source": [
        "Завдання 1\n",
        "\n",
        "Створіть програму, яка зчитує рядок, в якому знаходиться ПІБ користувача і перевіряє, чи складається рядок з літер, при чому кожне слово має бути записане з великої літери. Вивести результат на екран."
      ],
      "metadata": {
        "id": "aks_e06sz5EM"
      }
    },
    {
      "cell_type": "code",
      "execution_count": 1,
      "metadata": {
        "colab": {
          "base_uri": "https://localhost:8080/"
        },
        "id": "E9K2ko8Jz0AJ",
        "outputId": "d6676177-10c0-4380-d754-e1351e46bb57"
      },
      "outputs": [
        {
          "output_type": "stream",
          "name": "stdout",
          "text": [
            "Введіть ваше ПІБ: Adn ban\n",
            "Рядок введено некоректно.\n"
          ]
        }
      ],
      "source": [
        "def check_name(full_name):\n",
        "    words = full_name.split()\n",
        "    if not words:\n",
        "        return False\n",
        "    for word in words:\n",
        "        if not word.isalpha() or not word.istitle():\n",
        "            return False\n",
        "    return True\n",
        "\n",
        "\n",
        "user_name = input(\"Введіть ваше ПІБ: \")\n",
        "\n",
        "if check_name(user_name):\n",
        "    print(\"Рядок введено коректно.\")\n",
        "else:\n",
        "    print(\"Рядок введено некоректно.\")"
      ]
    },
    {
      "cell_type": "markdown",
      "source": [
        "Завдання 2\n",
        "\n",
        "Напишіть програму, в якій користувач вводить із клавіатури діапазон чисел (в діапазоні має бути не менше 5 чисел). Вивести на екран суму другого, передостаннього, а також середнього арифметичного значення даної послідовності."
      ],
      "metadata": {
        "id": "tkyYAkxE0E8-"
      }
    },
    {
      "cell_type": "code",
      "source": [
        "def analyze_numbers():\n",
        "    while True:\n",
        "        try:\n",
        "            start = int(input(\"Введіть початкове число діапазону: \"))\n",
        "            end = int(input(\"Введіть кінцеве число діапазону: \"))\n",
        "            if end - start + 1 >= 5:\n",
        "                break\n",
        "            else:\n",
        "                print(\"В діапазоні має бути не менше 5 чисел.\")\n",
        "        except ValueError:\n",
        "            print(\"Будь ласка, вводьте тільки цілі числа.\")\n",
        "\n",
        "    sequence = list(range(start, end + 1))\n",
        "    print(f\"Ваша послідовність: {sequence}\")\n",
        "\n",
        "    second_element = sequence[1]\n",
        "    penultimate_element = sequence[-2]\n",
        "    sum_of_elements = second_element + penultimate_element\n",
        "    average = sum(sequence) / len(sequence)\n",
        "\n",
        "    print(f\"Сума другого та передостаннього елементів: {sum_of_elements}\")\n",
        "    print(f\"Середнє арифметичне значення послідовності: {average}\")\n",
        "\n",
        "\n",
        "analyze_numbers()"
      ],
      "metadata": {
        "colab": {
          "base_uri": "https://localhost:8080/"
        },
        "id": "GIQHCqEq0GxL",
        "outputId": "1955bc06-b690-4df4-f38c-7952cc7c5c76"
      },
      "execution_count": 2,
      "outputs": [
        {
          "output_type": "stream",
          "name": "stdout",
          "text": [
            "Введіть початкове число діапазону: 1\n",
            "Введіть кінцеве число діапазону: 6\n",
            "Ваша послідовність: [1, 2, 3, 4, 5, 6]\n",
            "Сума другого та передостаннього елементів: 7\n",
            "Середнє арифметичне значення послідовності: 3.5\n"
          ]
        }
      ]
    },
    {
      "cell_type": "markdown",
      "source": [
        "Завдання 3\n",
        "\n",
        "Напишіть програму, яка на вхід отримує параметри кольору (в діапазоні від 0 до 255 для кожного кольору) у форматі RGB і виводить на екран кортеж, у якому зберігається колір."
      ],
      "metadata": {
        "id": "TSMYBJmI0REk"
      }
    },
    {
      "cell_type": "code",
      "source": [
        "def get_rgb_color():\n",
        "    while True:\n",
        "        try:\n",
        "            r = int(input(\"Введіть значення для червоного кольору (0-255): \"))\n",
        "            g = int(input(\"Введіть значення для зеленого кольору (0-255): \"))\n",
        "            b = int(input(\"Введіть значення для синього кольору (0-255): \"))\n",
        "\n",
        "            if 0 <= r <= 255 and 0 <= g <= 255 and 0 <= b <= 255:\n",
        "                color_tuple = (r, g, b)\n",
        "                print(f\"Ваш колір у форматі RGB: {color_tuple}\")\n",
        "                return color_tuple\n",
        "            else:\n",
        "                print(\"Значення повинні бути в діапазоні від 0 до 255.\")\n",
        "        except ValueError:\n",
        "            print(\"Будь ласка, вводьте тільки цілі числа.\")\n",
        "\n",
        "\n",
        "get_rgb_color()"
      ],
      "metadata": {
        "colab": {
          "base_uri": "https://localhost:8080/"
        },
        "id": "0DAHgx3L0Tft",
        "outputId": "b78ee8af-9c76-49db-a6fa-8689642ff50b"
      },
      "execution_count": 3,
      "outputs": [
        {
          "output_type": "stream",
          "name": "stdout",
          "text": [
            "Введіть значення для червоного кольору (0-255): 202\n",
            "Введіть значення для зеленого кольору (0-255): 35\n",
            "Введіть значення для синього кольору (0-255): 15\n",
            "Ваш колір у форматі RGB: (202, 35, 15)\n"
          ]
        },
        {
          "output_type": "execute_result",
          "data": {
            "text/plain": [
              "(202, 35, 15)"
            ]
          },
          "metadata": {},
          "execution_count": 3
        }
      ]
    },
    {
      "cell_type": "markdown",
      "source": [
        "Завдання 4\n",
        "\n",
        "Ознайомтеся за допомогою документації з класами namedtuple та deque модуля collections. Створіть фабрику іменованих кортежів оцінок для учнів однієї групи з предметів: алгебра, геометрія, історія, інформатика, географія. Вивести дані на екран."
      ],
      "metadata": {
        "id": "sknNhmCj0hmB"
      }
    },
    {
      "cell_type": "code",
      "source": [
        "from collections import namedtuple\n",
        "\n",
        "Grades = namedtuple(\n",
        "    'Grades',\n",
        "    ['алгебра', 'геометрія', 'історія', 'інформатика', 'географія']\n",
        ")\n",
        "\n",
        "student1_grades = Grades(10, 9, 11, 12, 8)\n",
        "student2_grades = Grades(алгебра=8, геометрія=10, історія=9,\n",
        "                         інформатика=10, географія=9)\n",
        "\n",
        "print(\"Оцінки учня 1:\")\n",
        "print(student1_grades)\n",
        "print(f\"Алгебра: {student1_grades.алгебра}\")\n",
        "\n",
        "print(\"\\nОцінки учня 2:\")\n",
        "print(student2_grades)\n",
        "print(f\"Геометрія: {student2_grades.геометрія}\")"
      ],
      "metadata": {
        "colab": {
          "base_uri": "https://localhost:8080/"
        },
        "id": "hMDmdKTM0kRo",
        "outputId": "746b3e26-f87f-4667-bd33-b18d11b74679"
      },
      "execution_count": 4,
      "outputs": [
        {
          "output_type": "stream",
          "name": "stdout",
          "text": [
            "Оцінки учня 1:\n",
            "Grades(алгебра=10, геометрія=9, історія=11, інформатика=12, географія=8)\n",
            "Алгебра: 10\n",
            "\n",
            "Оцінки учня 2:\n",
            "Grades(алгебра=8, геометрія=10, історія=9, інформатика=10, географія=9)\n",
            "Геометрія: 10\n"
          ]
        }
      ]
    },
    {
      "cell_type": "markdown",
      "source": [
        "Завдання 5\n",
        "\n",
        "Напишіть програму, яка вводить з клавіатури послідовність чисел, перетворює послідовність на кортеж і виводить його відсортованим у порядку зростання."
      ],
      "metadata": {
        "id": "3hA_icAG0pUR"
      }
    },
    {
      "cell_type": "code",
      "source": [
        "def sort_number_sequence():\n",
        "    while True:\n",
        "        try:\n",
        "            user_input = input(\"Введіть послідовність чисел через пробіл: \")\n",
        "            numbers_list = [int(num) for num in user_input.split()]\n",
        "            numbers_tuple = tuple(sorted(numbers_list))\n",
        "            print(f\"Відсортований кортеж: {numbers_tuple}\")\n",
        "            break\n",
        "        except ValueError:\n",
        "            print(\"Будь ласка, вводьте тільки числа.\")\n",
        "\n",
        "\n",
        "sort_number_sequence()"
      ],
      "metadata": {
        "colab": {
          "base_uri": "https://localhost:8080/"
        },
        "id": "n8arLvPI0rPV",
        "outputId": "460001ce-ccb8-43c0-eef5-f58c087bdd79"
      },
      "execution_count": 5,
      "outputs": [
        {
          "output_type": "stream",
          "name": "stdout",
          "text": [
            "Введіть послідовність чисел через пробіл: 1 5 45 15 36\n",
            "Відсортований кортеж: (1, 5, 15, 36, 45)\n"
          ]
        }
      ]
    },
    {
      "cell_type": "markdown",
      "source": [
        "Завдання 6\n",
        "\n",
        "Напишіть програму для аналізу фідбеку від відвідувачів курорту «Морська зірка», яка повинна знаходити згадки про меню, спортзал, обслуговування(за кожне знайдене співпадіння нараховується 5% знижки на наступне відвідування). Якщо фідбек перевищив 60 символів, відвідувачу надається додаткова знижка 15% на наступне відвідування."
      ],
      "metadata": {
        "id": "5birVIbg0zwT"
      }
    },
    {
      "cell_type": "code",
      "source": [
        "def analyze_feedback():\n",
        "    feedback = input(\"Залиште ваш відгук про курорт «Морська зірка»: \")\n",
        "    keywords = [\"меню\", \"спортзал\", \"обслуговування\"]\n",
        "    total_discount = 0\n",
        "    feedback_lower = feedback.lower()\n",
        "\n",
        "    for word in keywords:\n",
        "        if word in feedback_lower:\n",
        "            total_discount += 5\n",
        "\n",
        "    if len(feedback) > 60:\n",
        "        total_discount += 15\n",
        "\n",
        "    if total_discount > 0:\n",
        "        print(f\"Ваша знижка на наступне відвідування: {total_discount}%\")\n",
        "    else:\n",
        "        print(\"Дякуємо за ваш відгук!\")\n",
        "\n",
        "\n",
        "analyze_feedback()"
      ],
      "metadata": {
        "colab": {
          "base_uri": "https://localhost:8080/"
        },
        "id": "LCQ_pc1Y00YM",
        "outputId": "404a2e35-1cbf-487e-c4c8-90eba371261a"
      },
      "execution_count": 7,
      "outputs": [
        {
          "output_type": "stream",
          "name": "stdout",
          "text": [
            "Залиште ваш відгук про курорт «Морська зірка»: меню супер вот обслуговування так себе\n",
            "Ваша знижка на наступне відвідування: 10%\n"
          ]
        }
      ]
    }
  ]
}