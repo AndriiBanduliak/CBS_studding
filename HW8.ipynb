{
  "nbformat": 4,
  "nbformat_minor": 0,
  "metadata": {
    "colab": {
      "provenance": []
    },
    "kernelspec": {
      "name": "python3",
      "display_name": "Python 3"
    },
    "language_info": {
      "name": "python"
    }
  },
  "cells": [
    {
      "cell_type": "markdown",
      "source": [
        "Завдання 1\n",
        "\n",
        "Створіть функцію, яка відображає привітання для користувача із заданим ім'ям. Якщо ім'я не вказано, вона повинна виводити привітання для користувача з Вашим ім'ям."
      ],
      "metadata": {
        "id": "KLolBvoVV-7P"
      }
    },
    {
      "cell_type": "code",
      "execution_count": 1,
      "metadata": {
        "colab": {
          "base_uri": "https://localhost:8080/"
        },
        "id": "tLPoKGU7OUpq",
        "outputId": "11068994-7c05-4fa4-dde0-6824670c060c"
      },
      "outputs": [
        {
          "output_type": "stream",
          "name": "stdout",
          "text": [
            "Вітаю, Олена!\n",
            "Вітаю, Андрій!\n"
          ]
        }
      ],
      "source": [
        "def greet_user(name=\"Андрій\"):\n",
        "\n",
        "    print(f\"Вітаю, {name}!\")\n",
        "\n",
        "\n",
        "greet_user(\"Олена\")\n",
        "\n",
        "greet_user()"
      ]
    },
    {
      "cell_type": "markdown",
      "source": [
        "Завдання 2\n",
        "\n",
        "Створіть дві функції, що обчислюють значення певних алгебраїчних виразів. На екрані виведіть таблицю значень цих функцій від -5 до 5 з кроком 0.5."
      ],
      "metadata": {
        "id": "1Rs7BPXWWLiX"
      }
    },
    {
      "cell_type": "code",
      "source": [
        "def func1(x):\n",
        "    return x**2 - 3 * x + 2\n",
        "\n",
        "def func2(x):\n",
        "    return 2 / (x + 10)\n",
        "\n",
        "def print_functions_table():\n",
        "    print(\"-\" * 35)\n",
        "    print(\"| {:^7} | {:^10} | {:^10} |\".format(\"x\", \"f1(x)\", \"f2(x)\"))\n",
        "    print(\"-\" * 35)\n",
        "\n",
        "    x = -5.0\n",
        "    while x <= 5.0:\n",
        "        y1 = func1(x)\n",
        "        y2 = func2(x)\n",
        "        print(\"| {:^7.1f} | {:^10.2f} | {:^10.2f} |\".format(x, y1, y2))\n",
        "        x += 0.5\n",
        "\n",
        "    print(\"-\" * 35)\n",
        "\n",
        "print_functions_table()"
      ],
      "metadata": {
        "colab": {
          "base_uri": "https://localhost:8080/"
        },
        "id": "UEpX7nf9WOEs",
        "outputId": "9dc6515e-ab42-4fd3-8da7-8e882f7463ee"
      },
      "execution_count": 2,
      "outputs": [
        {
          "output_type": "stream",
          "name": "stdout",
          "text": [
            "-----------------------------------\n",
            "|    x    |   f1(x)    |   f2(x)    |\n",
            "-----------------------------------\n",
            "|  -5.0   |   42.00    |    0.40    |\n",
            "|  -4.5   |   35.75    |    0.36    |\n",
            "|  -4.0   |   30.00    |    0.33    |\n",
            "|  -3.5   |   24.75    |    0.31    |\n",
            "|  -3.0   |   20.00    |    0.29    |\n",
            "|  -2.5   |   15.75    |    0.27    |\n",
            "|  -2.0   |   12.00    |    0.25    |\n",
            "|  -1.5   |    8.75    |    0.24    |\n",
            "|  -1.0   |    6.00    |    0.22    |\n",
            "|  -0.5   |    3.75    |    0.21    |\n",
            "|   0.0   |    2.00    |    0.20    |\n",
            "|   0.5   |    0.75    |    0.19    |\n",
            "|   1.0   |    0.00    |    0.18    |\n",
            "|   1.5   |   -0.25    |    0.17    |\n",
            "|   2.0   |    0.00    |    0.17    |\n",
            "|   2.5   |    0.75    |    0.16    |\n",
            "|   3.0   |    2.00    |    0.15    |\n",
            "|   3.5   |    3.75    |    0.15    |\n",
            "|   4.0   |    6.00    |    0.14    |\n",
            "|   4.5   |    8.75    |    0.14    |\n",
            "|   5.0   |   12.00    |    0.13    |\n",
            "-----------------------------------\n"
          ]
        }
      ]
    },
    {
      "cell_type": "markdown",
      "source": [
        "Завдання 3\n",
        "\n",
        "Створіть програму-калькулятор, яка підтримує наступні операції: додавання, віднімання, множення, ділення, зведення в ступінь, зведення до квадратного та кубічного коренів. Всі дані повинні вводитися в циклі, доки користувач не вкаже, що хоче завершити виконання програми. Кожна операція має бути реалізована у вигляді окремої функції. Функція ділення повинна перевіряти дані на коректність та видавати повідомлення про помилку у разі спроби поділу на нуль."
      ],
      "metadata": {
        "id": "fxjJ3r4pWaPp"
      }
    },
    {
      "cell_type": "code",
      "source": [
        "import math\n",
        "\n",
        "def add(a, b):\n",
        "    return a + b\n",
        "\n",
        "def subtract(a, b):\n",
        "    return a - b\n",
        "\n",
        "def multiply(a, b):\n",
        "    return a * b\n",
        "\n",
        "def divide(a, b):\n",
        "    if b == 0:\n",
        "        return \"Помилка: ділення на нуль неможливе!\"\n",
        "    return a / b\n",
        "\n",
        "def power(a, b):\n",
        "    return a ** b\n",
        "\n",
        "def square_root(a):\n",
        "    if a < 0:\n",
        "        return \"Помилка: не можна взяти квадратний корінь з від'ємного числа!\"\n",
        "    return math.sqrt(a)\n",
        "\n",
        "def cube_root(a):\n",
        "    # Кубічний корінь можна брати і з від'ємних чисел\n",
        "    return a ** (1/3)\n",
        "\n",
        "def calculator():\n",
        "    while True:\n",
        "        print(\"\\nОберіть операцію:\")\n",
        "        print(\"1. Додавання (+)\")\n",
        "        print(\"2. Віднімання (-)\")\n",
        "        print(\"3. Множення (*)\")\n",
        "        print(\"4. Ділення (/)\")\n",
        "        print(\"5. Зведення в ступінь (^)\")\n",
        "        print(\"6. Квадратний корінь\")\n",
        "        print(\"7. Кубічний корінь\")\n",
        "        print(\"Введіть 'exit' для виходу\")\n",
        "\n",
        "        user_choice = input(\"Ваш вибір: \")\n",
        "\n",
        "        if user_choice.lower() == 'exit':\n",
        "            print(\"Завершення роботи калькулятора.\")\n",
        "            break\n",
        "\n",
        "        try:\n",
        "            if user_choice in ('1', '2', '3', '4', '5'):\n",
        "                num1 = float(input(\"Введіть перше число: \"))\n",
        "                num2 = float(input(\"Введіть друге число: \"))\n",
        "\n",
        "                if user_choice == '1':\n",
        "                    print(\"Результат:\", add(num1, num2))\n",
        "                elif user_choice == '2':\n",
        "                    print(\"Результат:\", subtract(num1, num2))\n",
        "                elif user_choice == '3':\n",
        "                    print(\"Результат:\", multiply(num1, num2))\n",
        "                elif user_choice == '4':\n",
        "                    print(\"Результат:\", divide(num1, num2))\n",
        "                elif user_choice == '5':\n",
        "                    print(\"Результат:\", power(num1, num2))\n",
        "\n",
        "            elif user_choice in ('6', '7'):\n",
        "                num = float(input(\"Введіть число: \"))\n",
        "                if user_choice == '6':\n",
        "                    print(\"Результат:\", square_root(num))\n",
        "                elif user_choice == '7':\n",
        "                    print(\"Результат:\", cube_root(num))\n",
        "            else:\n",
        "                print(\"Невірний вибір. Спробуйте ще раз.\")\n",
        "\n",
        "        except ValueError:\n",
        "            print(\"Помилка: будь ласка, вводьте тільки числа.\")\n",
        "\n",
        "calculator()"
      ],
      "metadata": {
        "colab": {
          "base_uri": "https://localhost:8080/"
        },
        "id": "8vJX0Mn-Wdiv",
        "outputId": "c24b6d1e-4318-4308-f8b8-e5a7836295da"
      },
      "execution_count": 3,
      "outputs": [
        {
          "output_type": "stream",
          "name": "stdout",
          "text": [
            "\n",
            "Оберіть операцію:\n",
            "1. Додавання (+)\n",
            "2. Віднімання (-)\n",
            "3. Множення (*)\n",
            "4. Ділення (/)\n",
            "5. Зведення в ступінь (^)\n",
            "6. Квадратний корінь\n",
            "7. Кубічний корінь\n",
            "Введіть 'exit' для виходу\n",
            "Ваш вибір: 5\n",
            "Введіть перше число: 2\n",
            "Введіть друге число: 3\n",
            "Результат: 8.0\n",
            "\n",
            "Оберіть операцію:\n",
            "1. Додавання (+)\n",
            "2. Віднімання (-)\n",
            "3. Множення (*)\n",
            "4. Ділення (/)\n",
            "5. Зведення в ступінь (^)\n",
            "6. Квадратний корінь\n",
            "7. Кубічний корінь\n",
            "Введіть 'exit' для виходу\n",
            "Ваш вибір: exit\n",
            "Завершення роботи калькулятора.\n"
          ]
        }
      ]
    },
    {
      "cell_type": "markdown",
      "source": [
        "Завдання 4\n",
        "\n",
        "Створіть програму, яка складається з функції, яка приймає три числа і повертає їх середнє арифметичне, і головного циклу, що запитує у користувача числа і обчислює їх середні значення за допомогою створеної функції."
      ],
      "metadata": {
        "id": "yrc3VAw2Wrff"
      }
    },
    {
      "cell_type": "code",
      "source": [
        "def calculate_average(num1, num2, num3):\n",
        "    return (num1 + num2 + num3) / 3\n",
        "\n",
        "def main_loop_average():\n",
        "    while True:\n",
        "        try:\n",
        "            # Запитуємо у користувача три числа в одному рядку\n",
        "            input_str = input(\"Введіть три числа через пробіл: \")\n",
        "            numbers = [float(n) for n in input_str.split()]\n",
        "\n",
        "            if len(numbers) != 3:\n",
        "                print(\"Будь ласка, введіть рівно три числа.\")\n",
        "                continue\n",
        "\n",
        "            average = calculate_average(numbers[0], numbers[1], numbers[2])\n",
        "            print(f\"Середнє арифметичне введених чисел: {average:.2f}\")\n",
        "\n",
        "        except ValueError:\n",
        "            print(\"Помилка: будь ласка, вводьте числа коректно.\")\n",
        "\n",
        "        # Запитуємо, чи хоче користувач продовжити\n",
        "        another_calculation = input(\"Бажаєте обчислити ще раз? (так/ні): \")\n",
        "        if another_calculation.lower() != 'так':\n",
        "            break\n",
        "\n",
        "main_loop_average()"
      ],
      "metadata": {
        "colab": {
          "base_uri": "https://localhost:8080/"
        },
        "id": "9xxk4lfnWtei",
        "outputId": "4d64dc5c-961a-4e7d-bbe5-c03ff5c103e5"
      },
      "execution_count": 4,
      "outputs": [
        {
          "name": "stdout",
          "output_type": "stream",
          "text": [
            "Введіть три числа через пробіл: 21 15 36\n",
            "Середнє арифметичне введених чисел: 24.00\n",
            "Бажаєте обчислити ще раз? (так/ні): ні\n"
          ]
        }
      ]
    },
    {
      "cell_type": "markdown",
      "source": [
        "Завдання 5\n",
        "\n",
        "Створіть програму, яка приймає як формальні параметри зріст і вагу користувача, обчислює індекс маси тіла і в залежності від результату повертає інформаційне повідомлення (маса тіла в нормі, недостатня вага або слідкуйте за фігурою). Користувач з клавіатури вводить значення росту та маси тіла та передає ці дані у вигляді фактичних параметрів під час виклику функції. Програма працює доти, доки користувач не зупинить її комбінацією символів «off»."
      ],
      "metadata": {
        "id": "vLy3Me7yW5Cd"
      }
    },
    {
      "cell_type": "code",
      "source": [
        "def calculate_bmi(weight_kg, height_m):\n",
        "    if height_m <= 0:\n",
        "        return \"Помилка: зріст не може бути нульовим або від'ємним.\"\n",
        "\n",
        "    bmi = weight_kg / (height_m ** 2)\n",
        "\n",
        "    print(f\"Ваш індекс маси тіла (ІМТ): {bmi:.2f}\")\n",
        "\n",
        "    if bmi < 18.5:\n",
        "        return \"Результат: недостатня вага.\"\n",
        "    elif 18.5 <= bmi < 25:\n",
        "        return \"Результат: маса тіла в нормі.\"\n",
        "    else: # bmi >= 25\n",
        "        return \"Результат: у вас зайва вага, слідкуйте за фігурою.\"\n",
        "\n",
        "def bmi_calculator_app():\n",
        "    print(\"--- Калькулятор індексу маси тіла ---\")\n",
        "\n",
        "    while True:\n",
        "        height_input = input(\"Введіть ваш зріст у сантиметрах (або 'off' для виходу): \")\n",
        "        if height_input.lower() == 'off':\n",
        "            break\n",
        "\n",
        "        weight_input = input(\"Введіть вашу вагу в кілограмах (або 'off' для виходу): \")\n",
        "        if weight_input.lower() == 'off':\n",
        "            break\n",
        "\n",
        "        try:\n",
        "            height_cm = float(height_input)\n",
        "            weight_kg = float(weight_input)\n",
        "\n",
        "            height_m = height_cm / 100\n",
        "\n",
        "            message = calculate_bmi(weight_kg, height_m)\n",
        "            print(message)\n",
        "            print(\"-\" * 20)\n",
        "\n",
        "        except ValueError:\n",
        "            print(\"Помилка: будь ласка, вводьте тільки числа для зросту та ваги.\")\n",
        "            print(\"-\" * 20)\n",
        "\n",
        "    print(\"Дякуємо за використання програми!\")\n",
        "\n",
        "bmi_calculator_app()"
      ],
      "metadata": {
        "colab": {
          "base_uri": "https://localhost:8080/"
        },
        "id": "aXAcsTjPW5yL",
        "outputId": "a8215712-e329-417c-f311-abb061042325"
      },
      "execution_count": 5,
      "outputs": [
        {
          "output_type": "stream",
          "name": "stdout",
          "text": [
            "--- Калькулятор індексу маси тіла ---\n",
            "Введіть ваш зріст у сантиметрах (або 'off' для виходу): 175\n",
            "Введіть вашу вагу в кілограмах (або 'off' для виходу): 96\n",
            "Ваш індекс маси тіла (ІМТ): 31.35\n",
            "Результат: у вас зайва вага, слідкуйте за фігурою.\n",
            "--------------------\n",
            "Введіть ваш зріст у сантиметрах (або 'off' для виходу): off\n",
            "Дякуємо за використання програми!\n"
          ]
        }
      ]
    }
  ]
}