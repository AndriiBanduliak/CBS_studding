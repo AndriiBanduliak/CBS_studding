{
  "nbformat": 4,
  "nbformat_minor": 0,
  "metadata": {
    "colab": {
      "provenance": []
    },
    "kernelspec": {
      "name": "python3",
      "display_name": "Python 3"
    },
    "language_info": {
      "name": "python"
    }
  },
  "cells": [
    {
      "cell_type": "markdown",
      "source": [
        "Завдання 1\n",
        "Дано числа a і b (a < b). Виведіть суму всіх натуральних чисел від a до b (включно)."
      ],
      "metadata": {
        "id": "Ol3fOceE7Vlu"
      }
    },
    {
      "cell_type": "code",
      "execution_count": 2,
      "metadata": {
        "colab": {
          "base_uri": "https://localhost:8080/"
        },
        "id": "L8N_uFvn6jqA",
        "outputId": "2ca2c7bb-94aa-4618-b038-cf963b63597e"
      },
      "outputs": [
        {
          "output_type": "stream",
          "name": "stdout",
          "text": [
            "Введіть перше число (a): 1\n",
            "Введіть друге число (b): 5\n",
            "Сума натуральних чисел від 1 до 5 дорівнює: 15\n"
          ]
        }
      ],
      "source": [
        "try:\n",
        "    a = int(input(\"Введіть перше число (a): \"))\n",
        "    b = int(input(\"Введіть друге число (b): \"))\n",
        "\n",
        "    if a >= b:\n",
        "        print(\"Помилка: перше число (a) має бути меншим за друге число (b).\")\n",
        "    else:\n",
        "        summa = 0\n",
        "\n",
        "        for chislo in range(a, b + 1):\n",
        "            summa += chislo\n",
        "\n",
        "        print(f\"Сума натуральних чисел від {a} до {b} дорівнює: {summa}\")\n",
        "except ValueError:\n",
        "    print(\"Помилка: будь ласка, введіть цілі числа.\")"
      ]
    },
    {
      "cell_type": "markdown",
      "source": [
        "Завдання 2\n",
        "\n",
        "Факторіалом числа n називається число n!=1∙2∙3∙…∙n. Створіть програму, яка обчислює факторіал введеного користувачем числа."
      ],
      "metadata": {
        "id": "7_jYhm1o7JsI"
      }
    },
    {
      "cell_type": "code",
      "source": [
        "try:\n",
        "    n = int(input(\"Введіть невід'ємне число для обчислення факторіалу: \"))\n",
        "\n",
        "    if n < 0:\n",
        "        print(\"Помилка: факторіал не визначений для від'ємних чисел.\")\n",
        "    elif n == 0:\n",
        "        print(\"Факторіал числа 0 дорівнює: 1\")\n",
        "    else:\n",
        "        factorial = 1\n",
        "        for i in range(1, n + 1):\n",
        "            factorial *= i\n",
        "\n",
        "        print(f\"Факторіал числа {n} дорівнює: {factorial}\")\n",
        "\n",
        "except ValueError:\n",
        "    print(\"Помилка: будь ласка, введіть ціле число.\")"
      ],
      "metadata": {
        "colab": {
          "base_uri": "https://localhost:8080/"
        },
        "id": "KyHKgnrB7N2S",
        "outputId": "d4a2d861-c2fd-45a7-e324-bd8b3120972b"
      },
      "execution_count": 4,
      "outputs": [
        {
          "output_type": "stream",
          "name": "stdout",
          "text": [
            "Введіть невід'ємне число для обчислення факторіалу: -6\n",
            "Помилка: факторіал не визначений для від'ємних чисел.\n"
          ]
        }
      ]
    },
    {
      "cell_type": "markdown",
      "source": [
        "Завдання 3\n",
        "\n",
        "Використовуючи вкладені цикли та функції print(‘*’, end=’’), print(‘ ‘, end=’’) та print() виведіть на екран прямокутний трикутник"
      ],
      "metadata": {
        "id": "utfQzMk47oH7"
      }
    },
    {
      "cell_type": "code",
      "source": [
        "h = int(input(\"Введіть висоту трикутника\"))\n",
        "\n",
        "for i in range(1, h+ 1):\n",
        "    for _ in range(i):\n",
        "        print('*', end='')\n",
        "    print()"
      ],
      "metadata": {
        "colab": {
          "base_uri": "https://localhost:8080/"
        },
        "id": "N6A0qGKi7rLD",
        "outputId": "355bdf24-6786-45d9-f99a-ca759a829e97"
      },
      "execution_count": 6,
      "outputs": [
        {
          "output_type": "stream",
          "name": "stdout",
          "text": [
            "Введіть висоту трикутника15\n",
            "*\n",
            "**\n",
            "***\n",
            "****\n",
            "*****\n",
            "******\n",
            "*******\n",
            "********\n",
            "*********\n",
            "**********\n",
            "***********\n",
            "************\n",
            "*************\n",
            "**************\n",
            "***************\n"
          ]
        }
      ]
    },
    {
      "cell_type": "markdown",
      "source": [
        "Завдання 4\n",
        "\n",
        "Дано числа a і b (a < b). Виведіть на екран суму всіх натуральних чисел від a до b (включно), які є кратними середньому арифметичному цього проміжку."
      ],
      "metadata": {
        "id": "bXsyD1xp8Wem"
      }
    },
    {
      "cell_type": "code",
      "source": [
        "try:\n",
        "    a = int(input(\"Введіть перше число (a): \"))\n",
        "    b = int(input(\"Введіть друге число (b): \"))\n",
        "\n",
        "    if a >= b:\n",
        "        print(\"Помилка: перше число (a) має бути меншим за друге число (b).\")\n",
        "    else:\n",
        "        average = (a + b) / 2\n",
        "        average_int = int(average)\n",
        "        if average_int == 0 and average != 0:\n",
        "             print(f\"Середнє арифметичне проміжку [{a}, {b}] дорівнює {average:.2f}. Числа, кратні 0, не визначені.\")\n",
        "        elif average_int == 0 and average == 0:\n",
        "             print(f\"Середнє арифметичне проміжку [{a}, {b}] дорівнює 0. Сума чисел, кратних 0, не визначена.\")\n",
        "        else:\n",
        "            summa_kratnih = 0\n",
        "            print(f\"Середнє арифметичне проміжку [{a}, {b}] дорівнює: {average:.2f}\")\n",
        "            print(f\"Шукаємо числа, кратні цілій частині: {average_int}\")\n",
        "\n",
        "            for chislo in range(a, b + 1):\n",
        "                    summa_kratnih += chislo\n",
        "\n",
        "            print(f\"Сума натуральних чисел від {a} до {b}, кратних {average_int}, дорівнює: {summa_kratnih}\")\n",
        "\n",
        "except ValueError:\n",
        "    print(\"Помилка: будь ласка, введіть цілі числа.\")\n",
        "except ZeroDivisionError:\n",
        "    print(\"Помилка ділення на нуль при обчисленні кратності.\")"
      ],
      "metadata": {
        "colab": {
          "base_uri": "https://localhost:8080/"
        },
        "id": "VVTh36xm8Y5n",
        "outputId": "4006ae38-60d9-44a9-cad4-096c1bebdb6c"
      },
      "execution_count": 7,
      "outputs": [
        {
          "output_type": "stream",
          "name": "stdout",
          "text": [
            "Введіть перше число (a): 14\n",
            "Введіть друге число (b): 101\n",
            "Середнє арифметичне проміжку [14, 101] дорівнює: 57.50\n",
            "Шукаємо числа, кратні цілій частині: 57\n",
            "Сума натуральних чисел від 14 до 101, кратних 57, дорівнює: 5060\n"
          ]
        }
      ]
    },
    {
      "cell_type": "markdown",
      "source": [
        "Завдання 5\n",
        "\n",
        "Створіть програму, яка малює на екрані прямокутник із зірочок заданою користувачем ширини та висоти."
      ],
      "metadata": {
        "id": "nAAfBIwD9gGk"
      }
    },
    {
      "cell_type": "code",
      "source": [
        "try:\n",
        "    width = int(input(\"Введіть ширину прямокутника: \"))\n",
        "    height = int(input(\"Введіть висоту прямокутника: \"))\n",
        "\n",
        "    if width <= 0 or height <= 0:\n",
        "        print(\"Помилка: ширина та висота мають бути додатними числами.\")\n",
        "    else:\n",
        "        for i in range(height):\n",
        "            for j in range(width):\n",
        "                print('*', end='')\n",
        "            print()\n",
        "\n",
        "except ValueError:\n",
        "    print(\"Помилка: будь ласка, введіть цілі числа для ширини та висоти.\")"
      ],
      "metadata": {
        "colab": {
          "base_uri": "https://localhost:8080/"
        },
        "id": "PYmoY0jG9j1q",
        "outputId": "55bf0bfd-3ce4-4d7c-8237-c0dfa3f11cc5"
      },
      "execution_count": 9,
      "outputs": [
        {
          "output_type": "stream",
          "name": "stdout",
          "text": [
            "Введіть ширину прямокутника: 12\n",
            "Введіть висоту прямокутника: 6\n",
            "************\n",
            "************\n",
            "************\n",
            "************\n",
            "************\n",
            "************\n"
          ]
        }
      ]
    },
    {
      "cell_type": "markdown",
      "source": [
        "Завдання 6\n",
        "\n",
        "Створіть програму авторизації, в якій користувачеві дається 3 спроби ввести свої облікові дані (логін та пароль). Якщо користувач за меншу кількість спроб ввів вірні дані, програма достроково припиняє своє виконання та виводить на екран повідомлення: «Авторизацію успішно пройдено з «№» спроби»."
      ],
      "metadata": {
        "id": "0y6KrifH98YX"
      }
    },
    {
      "cell_type": "code",
      "source": [
        "\n",
        "CORRECT_LOGIN = \"admin\"\n",
        "CORRECT_PASSWORD = \"admin\"\n",
        "MAX_ATTEMPTS = 3\n",
        "\n",
        "attempts_made = 0\n",
        "authorization_successful = False\n",
        "\n",
        "print(\"--- Система авторизації ---\")\n",
        "\n",
        "while attempts_made < MAX_ATTEMPTS:\n",
        "    attempts_made += 1\n",
        "    print(f\"\\nСпроба №{attempts_made} з {MAX_ATTEMPTS}:\")\n",
        "\n",
        "    login = input(\"Введіть логін: \")\n",
        "    password = input(\"Введіть пароль: \")\n",
        "    if login == CORRECT_LOGIN and password == CORRECT_PASSWORD:\n",
        "        print(f\"Авторизацію успішно пройдено з {attempts_made} спроби.\")\n",
        "        authorization_successful = True\n",
        "        break\n",
        "    else:\n",
        "        print(\"Неправильний логін або пароль.\")\n",
        "        if attempts_made < MAX_ATTEMPTS:\n",
        "            remaining_attempts = MAX_ATTEMPTS - attempts_made\n",
        "            print(f\"Залишилося спроб: {remaining_attempts}\")\n",
        "\n",
        "if not authorization_successful:\n",
        "    print(\"\\nВичерпано всі спроби авторизації. Доступ заборонено.\")"
      ],
      "metadata": {
        "colab": {
          "base_uri": "https://localhost:8080/"
        },
        "id": "yYhj1LDO-BqY",
        "outputId": "cc4f841d-cf80-4206-fac8-312056176a24"
      },
      "execution_count": 10,
      "outputs": [
        {
          "output_type": "stream",
          "name": "stdout",
          "text": [
            "--- Система авторизації ---\n",
            "\n",
            "Спроба №1 з 3:\n",
            "Введіть логін: aba\n",
            "Введіть пароль: aba12\n",
            "Неправильний логін або пароль.\n",
            "Залишилося спроб: 2\n",
            "\n",
            "Спроба №2 з 3:\n",
            "Введіть логін: admin\n",
            "Введіть пароль: admin\n",
            "Авторизацію успішно пройдено з 2 спроби.\n"
          ]
        }
      ]
    }
  ]
}