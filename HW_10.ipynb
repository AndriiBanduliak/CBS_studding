{
  "nbformat": 4,
  "nbformat_minor": 0,
  "metadata": {
    "colab": {
      "provenance": []
    },
    "kernelspec": {
      "name": "python3",
      "display_name": "Python 3"
    },
    "language_info": {
      "name": "python"
    }
  },
  "cells": [
    {
      "cell_type": "markdown",
      "source": [
        "Відкрийте файл fix_me.py із папки homework. Використовуючи звичайний текстовий редактор (Notepad), виправте всі помилки оформлення коду згідно з PEP 8"
      ],
      "metadata": {
        "id": "VWW6SJWiNB6_"
      }
    },
    {
      "cell_type": "code",
      "source": [
        "from math import e, pi\n",
        "\n",
        "base_number = 5\n",
        "repeat_count = int(input('Введіть кількість повторів: '))\n",
        "\n",
        "print(base_number * repeat_count)\n",
        "print(pi * base_number * repeat_count)\n",
        "print(e * 2)\n",
        "\n",
        "current_number = base_number\n",
        "while current_number >= 0:\n",
        "    print(f\"Зворотний відлік: {current_number}\")\n",
        "    current_number -= 1\n",
        "\n",
        "my_string = 'my string'\n",
        "total_sum = 0\n",
        "\n",
        "for char in my_string:\n",
        "    total_sum += pow(my_string.find(char), 2)\n",
        "    print(f\"Поточна сума = {total_sum}\")\n",
        "\n",
        "def my_custom_function(argument=1):\n",
        "    print(f\"Аргумент функції: {argument}\")\n",
        "\n",
        "my_custom_function(argument=5)"
      ],
      "metadata": {
        "colab": {
          "base_uri": "https://localhost:8080/"
        },
        "id": "aFNEgyNNMzku",
        "outputId": "25d73482-8dc2-4434-8f4e-b6b7de6e57c1"
      },
      "execution_count": 1,
      "outputs": [
        {
          "output_type": "stream",
          "name": "stdout",
          "text": [
            "Введіть кількість повторів: 2\n",
            "10\n",
            "31.41592653589793\n",
            "5.43656365691809\n",
            "Зворотний відлік: 5\n",
            "Зворотний відлік: 4\n",
            "Зворотний відлік: 3\n",
            "Зворотний відлік: 2\n",
            "Зворотний відлік: 1\n",
            "Зворотний відлік: 0\n",
            "Поточна сума = 0\n",
            "Поточна сума = 1\n",
            "Поточна сума = 5\n",
            "Поточна сума = 14\n",
            "Поточна сума = 30\n",
            "Поточна сума = 55\n",
            "Поточна сума = 91\n",
            "Поточна сума = 140\n",
            "Поточна сума = 204\n",
            "Аргумент функції: 5\n"
          ]
        }
      ]
    },
    {
      "cell_type": "markdown",
      "source": [
        "Завдання 3\n",
        "\n",
        "Створіть інженерний калькулятор з використанням модуля math, в якому передбачене меню. Під час створення дотримуйтесь правил специфікації PEP 8."
      ],
      "metadata": {
        "id": "LapG-m8WNR9f"
      }
    },
    {
      "cell_type": "code",
      "execution_count": 2,
      "metadata": {
        "colab": {
          "base_uri": "https://localhost:8080/"
        },
        "id": "7O0qVG3SMsfG",
        "outputId": "3f1ddb35-4d7f-4b07-de0c-dc1b09a8ee7f"
      },
      "outputs": [
        {
          "output_type": "stream",
          "name": "stdout",
          "text": [
            "\n",
            "--- Інженерний калькулятор ---\n",
            "1. Додавання (+)\n",
            "2. Віднімання (-)\n",
            "3. Множення (*)\n",
            "4. Ділення (/)\n",
            "5. Піднесення до степеня (x^y)\n",
            "6. Квадратний корінь (√)\n",
            "7. Синус (sin)\n",
            "8. Косинус (cos)\n",
            "9. Тангенс (tan)\n",
            "10. Натуральний логарифм (ln)\n",
            "0. Вихід\n",
            "-----------------------------\n",
            "Оберіть операцію (введіть номер): 1\n",
            "Введіть перше число: 12\n",
            "Введіть друге число: 13\n",
            "Результат: 25.0\n",
            "\n",
            "--- Інженерний калькулятор ---\n",
            "1. Додавання (+)\n",
            "2. Віднімання (-)\n",
            "3. Множення (*)\n",
            "4. Ділення (/)\n",
            "5. Піднесення до степеня (x^y)\n",
            "6. Квадратний корінь (√)\n",
            "7. Синус (sin)\n",
            "8. Косинус (cos)\n",
            "9. Тангенс (tan)\n",
            "10. Натуральний логарифм (ln)\n",
            "0. Вихід\n",
            "-----------------------------\n",
            "Оберіть операцію (введіть номер): 00\n",
            "Невірний вибір. Будь ласка, спробуйте ще раз.\n",
            "\n",
            "--- Інженерний калькулятор ---\n",
            "1. Додавання (+)\n",
            "2. Віднімання (-)\n",
            "3. Множення (*)\n",
            "4. Ділення (/)\n",
            "5. Піднесення до степеня (x^y)\n",
            "6. Квадратний корінь (√)\n",
            "7. Синус (sin)\n",
            "8. Косинус (cos)\n",
            "9. Тангенс (tan)\n",
            "10. Натуральний логарифм (ln)\n",
            "0. Вихід\n",
            "-----------------------------\n",
            "Оберіть операцію (введіть номер): 0\n",
            "Дякуємо за використання калькулятора!\n"
          ]
        }
      ],
      "source": [
        "import math\n",
        "\n",
        "def show_menu():\n",
        "    print(\"\\n--- Інженерний калькулятор ---\")\n",
        "    print(\"1. Додавання (+)\")\n",
        "    print(\"2. Віднімання (-)\")\n",
        "    print(\"3. Множення (*)\")\n",
        "    print(\"4. Ділення (/)\")\n",
        "    print(\"5. Піднесення до степеня (x^y)\")\n",
        "    print(\"6. Квадратний корінь (√)\")\n",
        "    print(\"7. Синус (sin)\")\n",
        "    print(\"8. Косинус (cos)\")\n",
        "    print(\"9. Тангенс (tan)\")\n",
        "    print(\"10. Натуральний логарифм (ln)\")\n",
        "    print(\"0. Вихід\")\n",
        "    print(\"-----------------------------\")\n",
        "\n",
        "\n",
        "def get_float_input(prompt):\n",
        "    while True:\n",
        "        try:\n",
        "            return float(input(prompt))\n",
        "        except ValueError:\n",
        "            print(\"Помилка: будь ласка, введіть числове значення.\")\n",
        "\n",
        "\n",
        "def run_calculator():\n",
        "    while True:\n",
        "        show_menu()\n",
        "        choice = input(\"Оберіть операцію (введіть номер): \")\n",
        "\n",
        "        if choice == '1':\n",
        "            num1 = get_float_input(\"Введіть перше число: \")\n",
        "            num2 = get_float_input(\"Введіть друге число: \")\n",
        "            print(f\"Результат: {num1 + num2}\")\n",
        "\n",
        "        elif choice == '2':\n",
        "            num1 = get_float_input(\"Введіть перше число: \")\n",
        "            num2 = get_float_input(\"Введіть друге число: \")\n",
        "            print(f\"Результат: {num1 - num2}\")\n",
        "\n",
        "        elif choice == '3':\n",
        "            num1 = get_float_input(\"Введіть перше число: \")\n",
        "            num2 = get_float_input(\"Введіть друге число: \")\n",
        "            print(f\"Результат: {num1 * num2}\")\n",
        "\n",
        "        elif choice == '4':\n",
        "            num1 = get_float_input(\"Введіть ділене: \")\n",
        "            num2 = get_float_input(\"Введіть дільник: \")\n",
        "            if num2 == 0:\n",
        "                print(\"Помилка: ділення на нуль неможливе.\")\n",
        "            else:\n",
        "                print(f\"Результат: {num1 / num2}\")\n",
        "\n",
        "        elif choice == '5':\n",
        "            base = get_float_input(\"Введіть основу: \")\n",
        "            exponent = get_float_input(\"Введіть показник степеня: \")\n",
        "            print(f\"Результат: {math.pow(base, exponent)}\")\n",
        "\n",
        "        elif choice == '6':\n",
        "            num = get_float_input(\"Введіть число: \")\n",
        "            if num < 0:\n",
        "                print(\"Помилка: неможливо взяти корінь з від'ємного числа.\")\n",
        "            else:\n",
        "                print(f\"Результат: {math.sqrt(num)}\")\n",
        "\n",
        "        elif choice in ('7', '8', '9'):\n",
        "            angle_rad = get_float_input(\"Введіть кут у радіанах: \")\n",
        "            if choice == '7':\n",
        "                print(f\"Результат: sin({angle_rad}) = {math.sin(angle_rad)}\")\n",
        "            elif choice == '8':\n",
        "                print(f\"Результат: cos({angle_rad}) = {math.cos(angle_rad)}\")\n",
        "            elif choice == '9':\n",
        "                print(f\"Результат: tan({angle_rad}) = {math.tan(angle_rad)}\")\n",
        "\n",
        "        elif choice == '10':\n",
        "            num = get_float_input(\"Введіть число: \")\n",
        "            if num <= 0:\n",
        "                print(\"Помилка: логарифм визначений для чисел > 0.\")\n",
        "            else:\n",
        "                print(f\"Результат: ln({num}) = {math.log(num)}\")\n",
        "\n",
        "        elif choice == '0':\n",
        "            print(\"Дякуємо за використання калькулятора!\")\n",
        "            break\n",
        "\n",
        "        else:\n",
        "            print(\"Невірний вибір. Будь ласка, спробуйте ще раз.\")\n",
        "\n",
        "\n",
        "if __name__ == \"__main__\":\n",
        "    run_calculator()"
      ]
    },
    {
      "cell_type": "markdown",
      "source": [
        "Завдання 4\n",
        "\n",
        "Створіть магазин канцтоварів використовуючи списки для зберігання елементів. Для додавання елементів створіть функцію, яка буде запитувати дані в користувача і зібрані дані у вигляді кортежу додавати у створений список на початку. Результат вивести на екран. Під час створення дотримуйтесь правил специфікації PEP 8."
      ],
      "metadata": {
        "id": "l0dDrbrHNVUk"
      }
    },
    {
      "cell_type": "code",
      "source": [
        "def add_stationery_item(storage_list):\n",
        "    print(\"\\n--- Додавання нового товару ---\")\n",
        "    name = input(\"Введіть назву товару: \")\n",
        "\n",
        "    while True:\n",
        "        try:\n",
        "            quantity = int(input(\"Введіть кількість: \"))\n",
        "            if quantity < 0:\n",
        "                print(\"Кількість не може бути від'ємною. Спробуйте ще раз.\")\n",
        "                continue\n",
        "            break\n",
        "        except ValueError:\n",
        "            print(\"Помилка: введіть ціле число для кількості.\")\n",
        "\n",
        "    while True:\n",
        "        try:\n",
        "            price = float(input(\"Введіть ціну за одиницю (напр. 15.50): \"))\n",
        "            if price < 0:\n",
        "                print(\"Ціна не може бути від'ємною. Спробуйте ще раз.\")\n",
        "                continue\n",
        "            break\n",
        "        except ValueError:\n",
        "            print(\"Помилка: введіть числове значення для ціни.\")\n",
        "\n",
        "    new_item = (name, quantity, price)\n",
        "    storage_list.insert(0, new_item)\n",
        "    print(f\"Товар '{name}' успішно додано до списку.\")\n",
        "\n",
        "\n",
        "def main():\n",
        "    stationery_items = []\n",
        "    print(\"Ласкаво просимо до програми 'Магазин канцтоварів'!\")\n",
        "\n",
        "    while True:\n",
        "        add_stationery_item(stationery_items)\n",
        "\n",
        "        another = input(\"Бажаєте додати ще один товар? (так/ні): \").lower()\n",
        "        if another != 'так':\n",
        "            break\n",
        "\n",
        "    print(\"\\n--- Фінальний список товарів на складі ---\")\n",
        "    if not stationery_items:\n",
        "        print(\"Список порожній.\")\n",
        "    else:\n",
        "        for item in stationery_items:\n",
        "            print(f\"- {item[0]}: {item[1]} шт., ціна: {item[2]:.2f} грн.\")\n",
        "\n",
        "\n",
        "if __name__ == \"__main__\":\n",
        "    main()"
      ],
      "metadata": {
        "colab": {
          "base_uri": "https://localhost:8080/"
        },
        "id": "egbUKEozNWMF",
        "outputId": "e6983c26-9c4a-4c3a-fe47-f2915f439916"
      },
      "execution_count": 3,
      "outputs": [
        {
          "output_type": "stream",
          "name": "stdout",
          "text": [
            "Ласкаво просимо до програми 'Магазин канцтоварів'!\n",
            "\n",
            "--- Додавання нового товару ---\n",
            "Введіть назву товару: Ручка\n",
            "Введіть кількість: 15\n",
            "Введіть ціну за одиницю (напр. 15.50): 2,5\n",
            "Помилка: введіть числове значення для ціни.\n",
            "Введіть ціну за одиницю (напр. 15.50): 2.85\n",
            "Товар 'Ручка' успішно додано до списку.\n",
            "Бажаєте додати ще один товар? (так/ні): ні\n",
            "\n",
            "--- Фінальний список товарів на складі ---\n",
            "- Ручка: 15 шт., ціна: 2.85 грн.\n"
          ]
        }
      ]
    }
  ]
}