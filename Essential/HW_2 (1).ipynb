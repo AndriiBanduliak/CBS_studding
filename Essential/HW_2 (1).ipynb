{
  "nbformat": 4,
  "nbformat_minor": 0,
  "metadata": {
    "colab": {
      "provenance": []
    },
    "kernelspec": {
      "name": "python3",
      "display_name": "Python 3"
    },
    "language_info": {
      "name": "python"
    }
  },
  "cells": [
    {
      "cell_type": "markdown",
      "source": [
        "Завдання 1\n",
        "\n",
        "Створіть клас Editor, який містить методи view_document та edit_document. Нехай метод edit_document виводить на екран інформацію про те, що редагування документів недоступне для безкоштовної версії. Створіть підклас ProEditor, у якому цей метод буде перевизначено. Введіть ліцензійний ключ із клавіатури і, якщо він коректний, створіть екземпляр класу ProEditor, інакше Editor. Викликайте методи перегляду та редагування документів.\n",
        "\n"
      ],
      "metadata": {
        "id": "VWW6SJWiNB6_"
      }
    },
    {
      "cell_type": "code",
      "source": [
        "class Editor:\n",
        "    def view_document(self):\n",
        "        print(\"Перегляд документа доступний.\")\n",
        "\n",
        "    def edit_document(self):\n",
        "        print(\"Редагування недоступне для безкоштовної версії.\")\n",
        "\n",
        "\n",
        "class ProEditor(Editor):\n",
        "    def edit_document(self):\n",
        "        print(\"Документ відредаговано успішно. Pro-версія активована.\")\n",
        "\n",
        "\n",
        "def main():\n",
        "    correct_key = \"PRO123\"\n",
        "\n",
        "    user_key = input(\"Будь ласка, введіть ваш ліцензійний ключ: \")\n",
        "\n",
        "    if user_key == correct_key:\n",
        "        print(\"Ключ вірний. Запускається Pro-версія.\")\n",
        "        editor_instance = ProEditor()\n",
        "    else:\n",
        "        print(\"Невірний або відсутній ключ. Запускається безкоштовна версія.\")\n",
        "        editor_instance = Editor()\n",
        "\n",
        "    editor_instance.view_document()\n",
        "    editor_instance.edit_document()\n",
        "\n",
        "\n",
        "if __name__ == \"__main__\":\n",
        "    main()"
      ],
      "metadata": {
        "colab": {
          "base_uri": "https://localhost:8080/"
        },
        "id": "aFNEgyNNMzku",
        "outputId": "f79e17ee-cf1f-4376-c4c1-64f45eb9e8fb"
      },
      "execution_count": 1,
      "outputs": [
        {
          "output_type": "stream",
          "name": "stdout",
          "text": [
            "Будь ласка, введіть ваш ліцензійний ключ: PRO123\n",
            "Ключ вірний. Запускається Pro-версія.\n",
            "Перегляд документа доступний.\n",
            "Документ відредаговано успішно. Pro-версія активована.\n"
          ]
        }
      ]
    },
    {
      "cell_type": "markdown",
      "source": [
        "Завдання 2\n",
        "\n",
        "Опишіть класи графічного об'єкта, прямокутника та об'єкта, який може обробляти натискання миші. Опишіть клас кнопки. Створіть об'єкт кнопки та звичайного прямокутника. Викличте метод натискання на кнопку.\n",
        "\n"
      ],
      "metadata": {
        "id": "LapG-m8WNR9f"
      }
    },
    {
      "cell_type": "code",
      "execution_count": 3,
      "metadata": {
        "colab": {
          "base_uri": "https://localhost:8080/"
        },
        "id": "7O0qVG3SMsfG",
        "outputId": "14ad6cc4-e393-4499-8f04-9d25c0e9c736"
      },
      "outputs": [
        {
          "output_type": "stream",
          "name": "stdout",
          "text": [
            "Дії зі звичайним прямокутником:\n",
            "Малювання прямокутника.\n",
            "\n",
            "Дії з кнопкою:\n",
            "Малювання кнопки з текстом 'Натисни мене'.\n",
            "Об'єкт отримав натискання миші.\n"
          ]
        }
      ],
      "source": [
        "class GraphicalObject:\n",
        "    def draw(self):\n",
        "        print(\"Малювання графічного об'єкта.\")\n",
        "\n",
        "\n",
        "class Clickable:\n",
        "    def on_click(self):\n",
        "        print(\"Об'єкт отримав натискання миші.\")\n",
        "\n",
        "\n",
        "class Rectangle(GraphicalObject):\n",
        "    def draw(self):\n",
        "        print(\"Малювання прямокутника.\")\n",
        "\n",
        "\n",
        "class Button(Rectangle, Clickable):\n",
        "    def __init__(self, text=\"Button\"):\n",
        "        self.text = text\n",
        "\n",
        "    def draw(self):\n",
        "        print(f\"Малювання кнопки з текстом '{self.text}'.\")\n",
        "\n",
        "\n",
        "def main():\n",
        "    simple_rect = Rectangle()\n",
        "    my_button = Button(text=\"Натисни мене\")\n",
        "\n",
        "    print(\"Дії зі звичайним прямокутником:\")\n",
        "    simple_rect.draw()\n",
        "\n",
        "    print(\"\\nДії з кнопкою:\")\n",
        "    my_button.draw()\n",
        "    my_button.on_click()\n",
        "\n",
        "\n",
        "if __name__ == \"__main__\":\n",
        "    main()"
      ]
    },
    {
      "cell_type": "markdown",
      "source": [
        "Завдання 3\n",
        "\n",
        "Створіть ієрархію класів із використанням множинного успадкування. Виведіть на екран порядок вирішення методів для кожного класу. Поясніть, чому лінеаризація даних класів виглядає саме так.\n"
      ],
      "metadata": {
        "id": "l0dDrbrHNVUk"
      }
    },
    {
      "cell_type": "code",
      "source": [
        "class A:\n",
        "    def info(self):\n",
        "        print(\"Клас A\")\n",
        "\n",
        "\n",
        "class B(A):\n",
        "    def info(self):\n",
        "        print(\"Клас B\")\n",
        "        super().info()\n",
        "\n",
        "\n",
        "class C(A):\n",
        "    def info(self):\n",
        "        print(\"Клас C\")\n",
        "        super().info()\n",
        "\n",
        "\n",
        "class D(B, C):\n",
        "    def info(self):\n",
        "        print(\"Клас D\")\n",
        "        super().info()\n",
        "\n",
        "\n",
        "def main():\n",
        "    print(\"MRO для класу D:\")\n",
        "    print(D.mro())\n",
        "\n",
        "    print(\"\\nВиклик методу для об'єкта класу D:\")\n",
        "    d_instance = D()\n",
        "    d_instance.info()\n",
        "\n",
        "\n",
        "if __name__ == \"__main__\":\n",
        "    main()"
      ],
      "metadata": {
        "colab": {
          "base_uri": "https://localhost:8080/"
        },
        "id": "egbUKEozNWMF",
        "outputId": "e3489d74-34fa-48ef-c02e-09312eb054d3"
      },
      "execution_count": 4,
      "outputs": [
        {
          "output_type": "stream",
          "name": "stdout",
          "text": [
            "MRO для класу D:\n",
            "[<class '__main__.D'>, <class '__main__.B'>, <class '__main__.C'>, <class '__main__.A'>, <class 'object'>]\n",
            "\n",
            "Виклик методу для об'єкта класу D:\n",
            "Клас D\n",
            "Клас B\n",
            "Клас C\n",
            "Клас A\n"
          ]
        }
      ]
    },
    {
      "cell_type": "markdown",
      "source": [
        "\n",
        "Завдання 4\n",
        "\n",
        "Створіть UML-діаграми до завдань 1, 3 та 7. Збережіть їх у форматі *.uml.\n",
        "см. ниже"
      ],
      "metadata": {
        "id": "lxeB2cr1xIDJ"
      }
    },
    {
      "cell_type": "code",
      "source": [],
      "metadata": {
        "id": "J5Z6qRv4xKeE"
      },
      "execution_count": null,
      "outputs": []
    },
    {
      "cell_type": "markdown",
      "source": [
        "\n",
        "Завдання 5\n",
        "\n",
        "Використовуючи код example_10, створіть декоратор @staticmethod для визначення повноліття людини в Україні та Америки.\n"
      ],
      "metadata": {
        "id": "xeTKB6iSxLGz"
      }
    },
    {
      "cell_type": "code",
      "source": [
        "from datetime import date\n",
        "\n",
        "\n",
        "class Person:\n",
        "    def __init__(self, surname, name, age):\n",
        "        self.surname = surname\n",
        "        self.name = name\n",
        "        self.age = age\n",
        "\n",
        "    @classmethod\n",
        "    def from_birth_year(cls, surname, name, birth_year):\n",
        "        return cls(surname, name, date.today().year - birth_year)\n",
        "\n",
        "    def print_info(self):\n",
        "        print(f\"{self.surname} {self.name}'s age is: {self.age}\")\n",
        "\n",
        "    @staticmethod\n",
        "    def is_adult_ukraine(age):\n",
        "        return age >= 18\n",
        "\n",
        "    @staticmethod\n",
        "    def is_adult_usa(age):\n",
        "        return age >= 21\n",
        "\n",
        "\n",
        "def main():\n",
        "    person_age_17 = 17\n",
        "    person_age_20 = 20\n",
        "\n",
        "    print(f\"Вік {person_age_17} є повнолітнім в Україні: \"\n",
        "          f\"{Person.is_adult_ukraine(person_age_17)}\")\n",
        "\n",
        "    print(f\"Вік {person_age_20} є повнолітнім в Україні: \"\n",
        "          f\"{Person.is_adult_ukraine(person_age_20)}\")\n",
        "\n",
        "    print(\"-\" * 20)\n",
        "\n",
        "    print(f\"Вік {person_age_17} є повнолітнім в США: \"\n",
        "          f\"{Person.is_adult_usa(person_age_17)}\")\n",
        "\n",
        "    print(f\"Вік {person_age_20} є повнолітнім в США: \"\n",
        "          f\"{Person.is_adult_usa(person_age_20)}\")\n",
        "\n",
        "\n",
        "if __name__ == \"__main__\":\n",
        "    main()"
      ],
      "metadata": {
        "colab": {
          "base_uri": "https://localhost:8080/"
        },
        "id": "pWHRToLjxM6A",
        "outputId": "d49dccf7-1689-43ef-b058-f84cfb90a472"
      },
      "execution_count": 6,
      "outputs": [
        {
          "output_type": "stream",
          "name": "stdout",
          "text": [
            "Вік 17 є повнолітнім в Україні: False\n",
            "Вік 20 є повнолітнім в Україні: True\n",
            "--------------------\n",
            "Вік 17 є повнолітнім в США: False\n",
            "Вік 20 є повнолітнім в США: False\n"
          ]
        }
      ]
    },
    {
      "cell_type": "markdown",
      "source": [
        "\n",
        "Завдання 6\n",
        "\n",
        "Використовуючи код example_10, створіть декоратори @classmethod для формування переліку об'єктів, які підрахують кількість повнолітніх людей в Україні та Америці.\n"
      ],
      "metadata": {
        "id": "qXVusGeXxNlY"
      }
    },
    {
      "cell_type": "code",
      "source": [
        "from datetime import date\n",
        "\n",
        "\n",
        "class Person:\n",
        "    all_people = []\n",
        "\n",
        "    def __init__(self, surname, name, age):\n",
        "        self.surname = surname\n",
        "        self.name = name\n",
        "        self.age = age\n",
        "        Person.all_people.append(self)\n",
        "\n",
        "    @classmethod\n",
        "    def from_birth_year(cls, surname, name, birth_year):\n",
        "        age = date.today().year - birth_year\n",
        "        return cls(surname, name, age)\n",
        "\n",
        "    def print_info(self):\n",
        "        print(f\"{self.surname} {self.name}'s age is: {self.age}\")\n",
        "\n",
        "    @classmethod\n",
        "    def count_adults_ukraine(cls):\n",
        "        return sum(1 for person in cls.all_people if person.age >= 18)\n",
        "\n",
        "    @classmethod\n",
        "    def count_adults_usa(cls):\n",
        "        return sum(1 for person in cls.all_people if person.age >= 21)\n",
        "\n",
        "\n",
        "def main():\n",
        "    person1 = Person('Іваненко', 'Іван', 17)\n",
        "    person2 = Person.from_birth_year('Довженко', 'Богдан', 2005)\n",
        "    person3 = Person.from_birth_year('Сидорчук', 'Петро', 1999)\n",
        "    person4 = Person('Макущенко', 'Дмитро', 21)\n",
        "\n",
        "    print(f\"Загальна кількість людей: {len(Person.all_people)}\")\n",
        "\n",
        "    adults_in_ua = Person.count_adults_ukraine()\n",
        "    print(f\"Кількість повнолітніх в Україні (18+): {adults_in_ua}\")\n",
        "\n",
        "    adults_in_us = Person.count_adults_usa()\n",
        "    print(f\"Кількість повнолітніх в США (21+): {adults_in_us}\")\n",
        "\n",
        "\n",
        "if __name__ == \"__main__\":\n",
        "    main()"
      ],
      "metadata": {
        "colab": {
          "base_uri": "https://localhost:8080/"
        },
        "id": "8-xgDpaxxPGM",
        "outputId": "bf63a529-05ee-4202-b4ac-625a4b51b742"
      },
      "execution_count": 8,
      "outputs": [
        {
          "output_type": "stream",
          "name": "stdout",
          "text": [
            "Загальна кількість людей: 4\n",
            "Кількість повнолітніх в Україні (18+): 3\n",
            "Кількість повнолітніх в США (21+): 2\n"
          ]
        }
      ]
    },
    {
      "cell_type": "markdown",
      "source": [
        "\n",
        "Завдання 7\n",
        "\n",
        "Створіть ієрархію класів транспортних засобів. У загальному класі опишіть загальні всім транспортних засобів поля, у спадкоємцях – специфічні їм. Створіть кілька екземплярів. Виведіть інформацію щодо кожного транспортного засобу."
      ],
      "metadata": {
        "id": "NBG2b5UAxPhl"
      }
    },
    {
      "cell_type": "code",
      "source": [
        "class Vehicle:\n",
        "    def __init__(self, brand, model, year):\n",
        "        self.brand = brand\n",
        "        self.model = model\n",
        "        self.year = year\n",
        "\n",
        "    def display_info(self):\n",
        "        print(f\"Тип: Загальний транспортний засіб\")\n",
        "        print(f\"Бренд: {self.brand}, Модель: {self.model}, Рік: {self.year}\")\n",
        "\n",
        "\n",
        "class Car(Vehicle):\n",
        "    def __init__(self, brand, model, year, num_doors, engine_volume):\n",
        "        super().__init__(brand, model, year)\n",
        "        self.num_doors = num_doors\n",
        "        self.engine_volume = engine_volume\n",
        "\n",
        "    def display_info(self):\n",
        "        print(f\"Тип: Автомобіль\")\n",
        "        super().display_info()\n",
        "        print(f\"Кількість дверей: {self.num_doors}, Об'єм двигуна: {self.engine_volume} л\")\n",
        "\n",
        "\n",
        "class Boat(Vehicle):\n",
        "    def __init__(self, brand, model, year, displacement_tons):\n",
        "        super().__init__(brand, model, year)\n",
        "        self.displacement_tons = displacement_tons\n",
        "\n",
        "    def display_info(self):\n",
        "        print(f\"Тип: Човен\")\n",
        "        super().display_info()\n",
        "        print(f\"Водотоннажність: {self.displacement_tons} тонн\")\n",
        "\n",
        "\n",
        "class Airplane(Vehicle):\n",
        "    def __init__(self, brand, model, year, max_altitude_ft, num_engines):\n",
        "        super().__init__(brand, model, year)\n",
        "        self.max_altitude_ft = max_altitude_ft\n",
        "        self.num_engines = num_engines\n",
        "\n",
        "    def display_info(self):\n",
        "        print(f\"Тип: Літак\")\n",
        "        super().display_info()\n",
        "        print(f\"Макс. висота: {self.max_altitude_ft} футів, Кількість двигунів: {self.num_engines}\")\n",
        "\n",
        "\n",
        "def main():\n",
        "    car = Car(\"Toyota\", \"Camry\", 2022, 4, 2.5)\n",
        "    boat = Boat(\"Bayliner\", \"Element E18\", 2021, 1.3)\n",
        "    airplane = Airplane(\"Boeing\", \"787 Dreamliner\", 2018, 43000, 2)\n",
        "\n",
        "    vehicles = [car, boat, airplane]\n",
        "\n",
        "    for index, vehicle in enumerate(vehicles):\n",
        "        print(f\"\\n--- Інформація про транспортний засіб #{index + 1} ---\")\n",
        "        vehicle.display_info()\n",
        "\n",
        "\n",
        "if __name__ == \"__main__\":\n",
        "    main()"
      ],
      "metadata": {
        "colab": {
          "base_uri": "https://localhost:8080/"
        },
        "id": "LtZcXiZrxQoS",
        "outputId": "6a8a0080-d169-4a38-e455-973b135da8b6"
      },
      "execution_count": 5,
      "outputs": [
        {
          "output_type": "stream",
          "name": "stdout",
          "text": [
            "\n",
            "--- Інформація про транспортний засіб #1 ---\n",
            "Тип: Автомобіль\n",
            "Тип: Загальний транспортний засіб\n",
            "Бренд: Toyota, Модель: Camry, Рік: 2022\n",
            "Кількість дверей: 4, Об'єм двигуна: 2.5 л\n",
            "\n",
            "--- Інформація про транспортний засіб #2 ---\n",
            "Тип: Човен\n",
            "Тип: Загальний транспортний засіб\n",
            "Бренд: Bayliner, Модель: Element E18, Рік: 2021\n",
            "Водотоннажність: 1.3 тонн\n",
            "\n",
            "--- Інформація про транспортний засіб #3 ---\n",
            "Тип: Літак\n",
            "Тип: Загальний транспортний засіб\n",
            "Бренд: Boeing, Модель: 787 Dreamliner, Рік: 2018\n",
            "Макс. висота: 43000 футів, Кількість двигунів: 2\n"
          ]
        }
      ]
    },
    {
      "cell_type": "code",
      "source": [
        "!apt-get install graphviz -y\n",
        "!pip install graphviz"
      ],
      "metadata": {
        "colab": {
          "base_uri": "https://localhost:8080/"
        },
        "id": "74oN1HuA39n4",
        "outputId": "dfff08e8-ddba-4c3e-c133-232465792356"
      },
      "execution_count": 20,
      "outputs": [
        {
          "output_type": "stream",
          "name": "stdout",
          "text": [
            "Reading package lists... Done\n",
            "Building dependency tree... Done\n",
            "Reading state information... Done\n",
            "graphviz is already the newest version (2.42.2-6ubuntu0.1).\n",
            "0 upgraded, 0 newly installed, 0 to remove and 35 not upgraded.\n",
            "Requirement already satisfied: graphviz in /usr/local/lib/python3.12/dist-packages (0.21)\n"
          ]
        }
      ]
    },
    {
      "cell_type": "code",
      "source": [
        "import graphviz\n",
        "\n",
        "def create_styled_diagram(dot_code, filename):\n",
        "    \"\"\"Створює та відображає стилізовану діаграму.\"\"\"\n",
        "    graph = graphviz.Source(dot_code)\n",
        "    # Зберігаємо у файл та одразу відображаємо\n",
        "    graph.render(filename, format='png', view=False)\n",
        "    return graph\n",
        "\n",
        "# --- Спільні стилі для всіх діаграм ---\n",
        "common_styles = \"\"\"\n",
        "    rankdir=\"BT\" // Спадкування знизу вгору\n",
        "    graph [fontname=\"Helvetica\", fontsize=\"12\", splines=\"ortho\"];\n",
        "    node [shape=\"record\", style=\"filled,rounded\", fillcolor=\"#E6F2FF\", fontname=\"Helvetica\", penwidth=\"1.0\"];\n",
        "    edge [arrowhead=\"empty\", color=\"#404040\"];\n",
        "\"\"\"\n",
        "\n",
        "# ================================================================\n",
        "# Діаграма 1: Editor/ProEditor\n",
        "# ================================================================\n",
        "\n",
        "dot_code_1 = f\"\"\"\n",
        "digraph Task1 {{\n",
        "    {common_styles}\n",
        "    Editor [label=\"{{Editor|+ view_document()\\\\l+ edit_document()\\\\l}}\"];\n",
        "    ProEditor [label=\"{{ProEditor|+ edit_document()\\\\l}}\"];\n",
        "    ProEditor -> Editor;\n",
        "}}\n",
        "\"\"\"\n",
        "\n",
        "print(\"--- Діаграма для Завдання 1: Editor/ProEditor ---\")\n",
        "display(create_styled_diagram(dot_code_1, \"task1_diagram\"))\n",
        "\n",
        "\n",
        "# ================================================================\n",
        "# Діаграма 2: Множинне успадкування\n",
        "# ================================================================\n",
        "\n",
        "dot_code_3 = f\"\"\"\n",
        "digraph Task3 {{\n",
        "    {common_styles}\n",
        "    A [label=\"{{A|+ info()\\\\l}}\"];\n",
        "    B [label=\"{{B|+ info()\\\\l}}\"];\n",
        "    C [label=\"{{C|+ info()\\\\l}}\"];\n",
        "    D [label=\"{{D|+ info()\\\\l}}\"];\n",
        "\n",
        "    B -> A;\n",
        "    C -> A;\n",
        "    D -> B;\n",
        "    D -> C;\n",
        "}}\n",
        "\"\"\"\n",
        "print(\"\\n--- Діаграма для Завдання 3: Множинне успадкування ---\")\n",
        "display(create_styled_diagram(dot_code_3, \"task3_diagram\"))\n",
        "\n",
        "\n",
        "# ================================================================\n",
        "# Діаграма 3: Транспортні засоби\n",
        "# ================================================================\n",
        "\n",
        "dot_code_7 = f\"\"\"\n",
        "digraph Task7 {{\n",
        "    {common_styles}\n",
        "    node [fillcolor=\"#E6FFE6\"]; // Інший колір для цієї діаграми\n",
        "\n",
        "    Vehicle [label=\"{{Vehicle|+ brand: str\\\\l+ model: str\\\\l+ year: int\\\\l|+ display_info()\\\\l}}\"];\n",
        "    Car [label=\"{{Car|+ num_doors: int\\\\l+ engine_volume: float\\\\l|+ display_info()\\\\l}}\"];\n",
        "    Boat [label=\"{{Boat|+ displacement_tons: float\\\\l|+ display_info()\\\\l}}\"];\n",
        "    Airplane [label=\"{{Airplane|+ max_altitude_ft: int\\\\l+ num_engines: int\\\\l|+ display_info()\\\\l}}\"];\n",
        "\n",
        "    Car -> Vehicle;\n",
        "    Boat -> Vehicle;\n",
        "    Airplane -> Vehicle;\n",
        "}}\n",
        "\"\"\"\n",
        "\n",
        "print(\"\\n--- Діаграма для Завдання 7: Транспортні засоби ---\")\n",
        "display(create_styled_diagram(dot_code_7, \"task7_diagram\"))"
      ],
      "metadata": {
        "colab": {
          "base_uri": "https://localhost:8080/",
          "height": 921
        },
        "id": "nVk0ghYj6znn",
        "outputId": "356fd329-3a41-435f-be5a-925a4bd1c826"
      },
      "execution_count": 21,
      "outputs": [
        {
          "output_type": "stream",
          "name": "stdout",
          "text": [
            "--- Діаграма для Завдання 1: Editor/ProEditor ---\n"
          ]
        },
        {
          "output_type": "display_data",
          "data": {
            "image/svg+xml": "<?xml version=\"1.0\" encoding=\"UTF-8\" standalone=\"no\"?>\n<!DOCTYPE svg PUBLIC \"-//W3C//DTD SVG 1.1//EN\"\n \"http://www.w3.org/Graphics/SVG/1.1/DTD/svg11.dtd\">\n<!-- Generated by graphviz version 2.43.0 (0)\n -->\n<!-- Title: Task1 Pages: 1 -->\n<svg width=\"140pt\" height=\"153pt\"\n viewBox=\"0.00 0.00 140.00 153.00\" xmlns=\"http://www.w3.org/2000/svg\" xmlns:xlink=\"http://www.w3.org/1999/xlink\">\n<g id=\"graph0\" class=\"graph\" transform=\"scale(1 1) rotate(0) translate(4 149)\">\n<title>Task1</title>\n<polygon fill=\"white\" stroke=\"transparent\" points=\"-4,4 -4,-149 136,-149 136,4 -4,4\"/>\n<!-- Editor -->\n<g id=\"node1\" class=\"node\">\n<title>Editor</title>\n<path fill=\"#e6f2ff\" stroke=\"black\" d=\"M12,-83.5C12,-83.5 120,-83.5 120,-83.5 126,-83.5 132,-89.5 132,-95.5 132,-95.5 132,-132.5 132,-132.5 132,-138.5 126,-144.5 120,-144.5 120,-144.5 12,-144.5 12,-144.5 6,-144.5 0,-138.5 0,-132.5 0,-132.5 0,-95.5 0,-95.5 0,-89.5 6,-83.5 12,-83.5\"/>\n<text text-anchor=\"middle\" x=\"66\" y=\"-129.3\" font-family=\"Helvetica,sans-Serif\" font-size=\"14.00\">Editor</text>\n<polyline fill=\"none\" stroke=\"black\" points=\"0,-121.5 132,-121.5 \"/>\n<text text-anchor=\"start\" x=\"8\" y=\"-106.3\" font-family=\"Helvetica,sans-Serif\" font-size=\"14.00\">+ view_document()</text>\n<text text-anchor=\"start\" x=\"8\" y=\"-91.3\" font-family=\"Helvetica,sans-Serif\" font-size=\"14.00\">+ edit_document()</text>\n</g>\n<!-- ProEditor -->\n<g id=\"node2\" class=\"node\">\n<title>ProEditor</title>\n<path fill=\"#e6f2ff\" stroke=\"black\" d=\"M14.5,-0.5C14.5,-0.5 117.5,-0.5 117.5,-0.5 123.5,-0.5 129.5,-6.5 129.5,-12.5 129.5,-12.5 129.5,-34.5 129.5,-34.5 129.5,-40.5 123.5,-46.5 117.5,-46.5 117.5,-46.5 14.5,-46.5 14.5,-46.5 8.5,-46.5 2.5,-40.5 2.5,-34.5 2.5,-34.5 2.5,-12.5 2.5,-12.5 2.5,-6.5 8.5,-0.5 14.5,-0.5\"/>\n<text text-anchor=\"middle\" x=\"66\" y=\"-31.3\" font-family=\"Helvetica,sans-Serif\" font-size=\"14.00\">ProEditor</text>\n<polyline fill=\"none\" stroke=\"black\" points=\"2.5,-23.5 129.5,-23.5 \"/>\n<text text-anchor=\"start\" x=\"10.5\" y=\"-8.3\" font-family=\"Helvetica,sans-Serif\" font-size=\"14.00\">+ edit_document()</text>\n</g>\n<!-- ProEditor&#45;&gt;Editor -->\n<g id=\"edge1\" class=\"edge\">\n<title>ProEditor&#45;&gt;Editor</title>\n<path fill=\"none\" stroke=\"#404040\" d=\"M66,-46.81C66,-46.81 66,-73.26 66,-73.26\"/>\n<polygon fill=\"none\" stroke=\"#404040\" points=\"62.5,-73.26 66,-83.26 69.5,-73.26 62.5,-73.26\"/>\n</g>\n</g>\n</svg>\n",
            "text/plain": [
              "<graphviz.sources.Source at 0x78be373f3f50>"
            ]
          },
          "metadata": {}
        },
        {
          "output_type": "stream",
          "name": "stdout",
          "text": [
            "\n",
            "--- Діаграма для Завдання 3: Множинне успадкування ---\n"
          ]
        },
        {
          "output_type": "display_data",
          "data": {
            "image/svg+xml": "<?xml version=\"1.0\" encoding=\"UTF-8\" standalone=\"no\"?>\n<!DOCTYPE svg PUBLIC \"-//W3C//DTD SVG 1.1//EN\"\n \"http://www.w3.org/Graphics/SVG/1.1/DTD/svg11.dtd\">\n<!-- Generated by graphviz version 2.43.0 (0)\n -->\n<!-- Title: Task3 Pages: 1 -->\n<svg width=\"144pt\" height=\"221pt\"\n viewBox=\"0.00 0.00 144.00 221.00\" xmlns=\"http://www.w3.org/2000/svg\" xmlns:xlink=\"http://www.w3.org/1999/xlink\">\n<g id=\"graph0\" class=\"graph\" transform=\"scale(1 1) rotate(0) translate(4 217)\">\n<title>Task3</title>\n<polygon fill=\"white\" stroke=\"transparent\" points=\"-4,4 -4,-217 140,-217 140,4 -4,4\"/>\n<!-- A -->\n<g id=\"node1\" class=\"node\">\n<title>A</title>\n<path fill=\"#e6f2ff\" stroke=\"black\" d=\"M50,-166.5C50,-166.5 85,-166.5 85,-166.5 91,-166.5 97,-172.5 97,-178.5 97,-178.5 97,-200.5 97,-200.5 97,-206.5 91,-212.5 85,-212.5 85,-212.5 50,-212.5 50,-212.5 44,-212.5 38,-206.5 38,-200.5 38,-200.5 38,-178.5 38,-178.5 38,-172.5 44,-166.5 50,-166.5\"/>\n<text text-anchor=\"middle\" x=\"67.5\" y=\"-197.3\" font-family=\"Helvetica,sans-Serif\" font-size=\"14.00\">A</text>\n<polyline fill=\"none\" stroke=\"black\" points=\"38,-189.5 97,-189.5 \"/>\n<text text-anchor=\"start\" x=\"46\" y=\"-174.3\" font-family=\"Helvetica,sans-Serif\" font-size=\"14.00\">+ info()</text>\n</g>\n<!-- B -->\n<g id=\"node2\" class=\"node\">\n<title>B</title>\n<path fill=\"#e6f2ff\" stroke=\"black\" d=\"M12,-83.5C12,-83.5 47,-83.5 47,-83.5 53,-83.5 59,-89.5 59,-95.5 59,-95.5 59,-117.5 59,-117.5 59,-123.5 53,-129.5 47,-129.5 47,-129.5 12,-129.5 12,-129.5 6,-129.5 0,-123.5 0,-117.5 0,-117.5 0,-95.5 0,-95.5 0,-89.5 6,-83.5 12,-83.5\"/>\n<text text-anchor=\"middle\" x=\"29.5\" y=\"-114.3\" font-family=\"Helvetica,sans-Serif\" font-size=\"14.00\">B</text>\n<polyline fill=\"none\" stroke=\"black\" points=\"0,-106.5 59,-106.5 \"/>\n<text text-anchor=\"start\" x=\"8\" y=\"-91.3\" font-family=\"Helvetica,sans-Serif\" font-size=\"14.00\">+ info()</text>\n</g>\n<!-- B&#45;&gt;A -->\n<g id=\"edge1\" class=\"edge\">\n<title>B&#45;&gt;A</title>\n<path fill=\"none\" stroke=\"#404040\" d=\"M48.5,-129.62C48.5,-129.62 48.5,-156.22 48.5,-156.22\"/>\n<polygon fill=\"none\" stroke=\"#404040\" points=\"45,-156.22 48.5,-166.22 52,-156.22 45,-156.22\"/>\n</g>\n<!-- C -->\n<g id=\"node3\" class=\"node\">\n<title>C</title>\n<path fill=\"#e6f2ff\" stroke=\"black\" d=\"M89,-83.5C89,-83.5 124,-83.5 124,-83.5 130,-83.5 136,-89.5 136,-95.5 136,-95.5 136,-117.5 136,-117.5 136,-123.5 130,-129.5 124,-129.5 124,-129.5 89,-129.5 89,-129.5 83,-129.5 77,-123.5 77,-117.5 77,-117.5 77,-95.5 77,-95.5 77,-89.5 83,-83.5 89,-83.5\"/>\n<text text-anchor=\"middle\" x=\"106.5\" y=\"-114.3\" font-family=\"Helvetica,sans-Serif\" font-size=\"14.00\">C</text>\n<polyline fill=\"none\" stroke=\"black\" points=\"77,-106.5 136,-106.5 \"/>\n<text text-anchor=\"start\" x=\"85\" y=\"-91.3\" font-family=\"Helvetica,sans-Serif\" font-size=\"14.00\">+ info()</text>\n</g>\n<!-- C&#45;&gt;A -->\n<g id=\"edge2\" class=\"edge\">\n<title>C&#45;&gt;A</title>\n<path fill=\"none\" stroke=\"#404040\" d=\"M87,-129.62C87,-129.62 87,-156.22 87,-156.22\"/>\n<polygon fill=\"none\" stroke=\"#404040\" points=\"83.5,-156.22 87,-166.22 90.5,-156.22 83.5,-156.22\"/>\n</g>\n<!-- D -->\n<g id=\"node4\" class=\"node\">\n<title>D</title>\n<path fill=\"#e6f2ff\" stroke=\"black\" d=\"M50,-0.5C50,-0.5 85,-0.5 85,-0.5 91,-0.5 97,-6.5 97,-12.5 97,-12.5 97,-34.5 97,-34.5 97,-40.5 91,-46.5 85,-46.5 85,-46.5 50,-46.5 50,-46.5 44,-46.5 38,-40.5 38,-34.5 38,-34.5 38,-12.5 38,-12.5 38,-6.5 44,-0.5 50,-0.5\"/>\n<text text-anchor=\"middle\" x=\"67.5\" y=\"-31.3\" font-family=\"Helvetica,sans-Serif\" font-size=\"14.00\">D</text>\n<polyline fill=\"none\" stroke=\"black\" points=\"38,-23.5 97,-23.5 \"/>\n<text text-anchor=\"start\" x=\"46\" y=\"-8.3\" font-family=\"Helvetica,sans-Serif\" font-size=\"14.00\">+ info()</text>\n</g>\n<!-- D&#45;&gt;B -->\n<g id=\"edge3\" class=\"edge\">\n<title>D&#45;&gt;B</title>\n<path fill=\"none\" stroke=\"#404040\" d=\"M48.5,-46.62C48.5,-46.62 48.5,-73.22 48.5,-73.22\"/>\n<polygon fill=\"none\" stroke=\"#404040\" points=\"45,-73.22 48.5,-83.22 52,-73.22 45,-73.22\"/>\n</g>\n<!-- D&#45;&gt;C -->\n<g id=\"edge4\" class=\"edge\">\n<title>D&#45;&gt;C</title>\n<path fill=\"none\" stroke=\"#404040\" d=\"M87,-46.62C87,-46.62 87,-73.22 87,-73.22\"/>\n<polygon fill=\"none\" stroke=\"#404040\" points=\"83.5,-73.22 87,-83.22 90.5,-73.22 83.5,-73.22\"/>\n</g>\n</g>\n</svg>\n",
            "text/plain": [
              "<graphviz.sources.Source at 0x78be373f3f50>"
            ]
          },
          "metadata": {}
        },
        {
          "output_type": "stream",
          "name": "stdout",
          "text": [
            "\n",
            "--- Діаграма для Завдання 7: Транспортні засоби ---\n"
          ]
        },
        {
          "output_type": "display_data",
          "data": {
            "image/svg+xml": "<?xml version=\"1.0\" encoding=\"UTF-8\" standalone=\"no\"?>\n<!DOCTYPE svg PUBLIC \"-//W3C//DTD SVG 1.1//EN\"\n \"http://www.w3.org/Graphics/SVG/1.1/DTD/svg11.dtd\">\n<!-- Generated by graphviz version 2.43.0 (0)\n -->\n<!-- Title: Task7 Pages: 1 -->\n<svg width=\"517pt\" height=\"229pt\"\n viewBox=\"0.00 0.00 516.50 229.00\" xmlns=\"http://www.w3.org/2000/svg\" xmlns:xlink=\"http://www.w3.org/1999/xlink\">\n<g id=\"graph0\" class=\"graph\" transform=\"scale(1 1) rotate(0) translate(4 225)\">\n<title>Task7</title>\n<polygon fill=\"white\" stroke=\"transparent\" points=\"-4,4 -4,-225 512.5,-225 512.5,4 -4,4\"/>\n<!-- Vehicle -->\n<g id=\"node1\" class=\"node\">\n<title>Vehicle</title>\n<path fill=\"#e6ffe6\" stroke=\"black\" d=\"M217.5,-121.5C217.5,-121.5 302.5,-121.5 302.5,-121.5 308.5,-121.5 314.5,-127.5 314.5,-133.5 314.5,-133.5 314.5,-208.5 314.5,-208.5 314.5,-214.5 308.5,-220.5 302.5,-220.5 302.5,-220.5 217.5,-220.5 217.5,-220.5 211.5,-220.5 205.5,-214.5 205.5,-208.5 205.5,-208.5 205.5,-133.5 205.5,-133.5 205.5,-127.5 211.5,-121.5 217.5,-121.5\"/>\n<text text-anchor=\"middle\" x=\"260\" y=\"-205.3\" font-family=\"Helvetica,sans-Serif\" font-size=\"14.00\">Vehicle</text>\n<polyline fill=\"none\" stroke=\"black\" points=\"205.5,-197.5 314.5,-197.5 \"/>\n<text text-anchor=\"start\" x=\"213.5\" y=\"-182.3\" font-family=\"Helvetica,sans-Serif\" font-size=\"14.00\">+ brand: str</text>\n<text text-anchor=\"start\" x=\"213.5\" y=\"-167.3\" font-family=\"Helvetica,sans-Serif\" font-size=\"14.00\">+ model: str</text>\n<text text-anchor=\"start\" x=\"213.5\" y=\"-152.3\" font-family=\"Helvetica,sans-Serif\" font-size=\"14.00\">+ year: int</text>\n<polyline fill=\"none\" stroke=\"black\" points=\"205.5,-144.5 314.5,-144.5 \"/>\n<text text-anchor=\"start\" x=\"213.5\" y=\"-129.3\" font-family=\"Helvetica,sans-Serif\" font-size=\"14.00\">+ display_info()</text>\n</g>\n<!-- Car -->\n<g id=\"node2\" class=\"node\">\n<title>Car</title>\n<path fill=\"#e6ffe6\" stroke=\"black\" d=\"M12,-0.5C12,-0.5 142,-0.5 142,-0.5 148,-0.5 154,-6.5 154,-12.5 154,-12.5 154,-72.5 154,-72.5 154,-78.5 148,-84.5 142,-84.5 142,-84.5 12,-84.5 12,-84.5 6,-84.5 0,-78.5 0,-72.5 0,-72.5 0,-12.5 0,-12.5 0,-6.5 6,-0.5 12,-0.5\"/>\n<text text-anchor=\"middle\" x=\"77\" y=\"-69.3\" font-family=\"Helvetica,sans-Serif\" font-size=\"14.00\">Car</text>\n<polyline fill=\"none\" stroke=\"black\" points=\"0,-61.5 154,-61.5 \"/>\n<text text-anchor=\"start\" x=\"8\" y=\"-46.3\" font-family=\"Helvetica,sans-Serif\" font-size=\"14.00\">+ num_doors: int</text>\n<text text-anchor=\"start\" x=\"8\" y=\"-31.3\" font-family=\"Helvetica,sans-Serif\" font-size=\"14.00\">+ engine_volume: float</text>\n<polyline fill=\"none\" stroke=\"black\" points=\"0,-23.5 154,-23.5 \"/>\n<text text-anchor=\"start\" x=\"8\" y=\"-8.3\" font-family=\"Helvetica,sans-Serif\" font-size=\"14.00\">+ display_info()</text>\n</g>\n<!-- Car&#45;&gt;Vehicle -->\n<g id=\"edge1\" class=\"edge\">\n<title>Car&#45;&gt;Vehicle</title>\n<path fill=\"none\" stroke=\"#404040\" d=\"M154.42,-80C193.51,-80 232.75,-80 232.75,-80 232.75,-80 232.75,-111.24 232.75,-111.24\"/>\n<polygon fill=\"none\" stroke=\"#404040\" points=\"229.25,-111.24 232.75,-121.24 236.25,-111.24 229.25,-111.24\"/>\n</g>\n<!-- Boat -->\n<g id=\"node3\" class=\"node\">\n<title>Boat</title>\n<path fill=\"#e6ffe6\" stroke=\"black\" d=\"M184.5,-8C184.5,-8 335.5,-8 335.5,-8 341.5,-8 347.5,-14 347.5,-20 347.5,-20 347.5,-65 347.5,-65 347.5,-71 341.5,-77 335.5,-77 335.5,-77 184.5,-77 184.5,-77 178.5,-77 172.5,-71 172.5,-65 172.5,-65 172.5,-20 172.5,-20 172.5,-14 178.5,-8 184.5,-8\"/>\n<text text-anchor=\"middle\" x=\"260\" y=\"-61.8\" font-family=\"Helvetica,sans-Serif\" font-size=\"14.00\">Boat</text>\n<polyline fill=\"none\" stroke=\"black\" points=\"172.5,-54 347.5,-54 \"/>\n<text text-anchor=\"start\" x=\"180.5\" y=\"-38.8\" font-family=\"Helvetica,sans-Serif\" font-size=\"14.00\">+ displacement_tons: float</text>\n<polyline fill=\"none\" stroke=\"black\" points=\"172.5,-31 347.5,-31 \"/>\n<text text-anchor=\"start\" x=\"180.5\" y=\"-15.8\" font-family=\"Helvetica,sans-Serif\" font-size=\"14.00\">+ display_info()</text>\n</g>\n<!-- Boat&#45;&gt;Vehicle -->\n<g id=\"edge2\" class=\"edge\">\n<title>Boat&#45;&gt;Vehicle</title>\n<path fill=\"none\" stroke=\"#404040\" d=\"M260,-77.27C260,-77.27 260,-111.24 260,-111.24\"/>\n<polygon fill=\"none\" stroke=\"#404040\" points=\"256.5,-111.24 260,-121.24 263.5,-111.24 256.5,-111.24\"/>\n</g>\n<!-- Airplane -->\n<g id=\"node4\" class=\"node\">\n<title>Airplane</title>\n<path fill=\"#e6ffe6\" stroke=\"black\" d=\"M377.5,-0.5C377.5,-0.5 496.5,-0.5 496.5,-0.5 502.5,-0.5 508.5,-6.5 508.5,-12.5 508.5,-12.5 508.5,-72.5 508.5,-72.5 508.5,-78.5 502.5,-84.5 496.5,-84.5 496.5,-84.5 377.5,-84.5 377.5,-84.5 371.5,-84.5 365.5,-78.5 365.5,-72.5 365.5,-72.5 365.5,-12.5 365.5,-12.5 365.5,-6.5 371.5,-0.5 377.5,-0.5\"/>\n<text text-anchor=\"middle\" x=\"437\" y=\"-69.3\" font-family=\"Helvetica,sans-Serif\" font-size=\"14.00\">Airplane</text>\n<polyline fill=\"none\" stroke=\"black\" points=\"365.5,-61.5 508.5,-61.5 \"/>\n<text text-anchor=\"start\" x=\"373.5\" y=\"-46.3\" font-family=\"Helvetica,sans-Serif\" font-size=\"14.00\">+ max_altitude_ft: int</text>\n<text text-anchor=\"start\" x=\"373.5\" y=\"-31.3\" font-family=\"Helvetica,sans-Serif\" font-size=\"14.00\">+ num_engines: int</text>\n<polyline fill=\"none\" stroke=\"black\" points=\"365.5,-23.5 508.5,-23.5 \"/>\n<text text-anchor=\"start\" x=\"373.5\" y=\"-8.3\" font-family=\"Helvetica,sans-Serif\" font-size=\"14.00\">+ display_info()</text>\n</g>\n<!-- Airplane&#45;&gt;Vehicle -->\n<g id=\"edge3\" class=\"edge\">\n<title>Airplane&#45;&gt;Vehicle</title>\n<path fill=\"none\" stroke=\"#404040\" d=\"M365.2,-83C326.76,-83 287.25,-83 287.25,-83 287.25,-83 287.25,-111.34 287.25,-111.34\"/>\n<polygon fill=\"none\" stroke=\"#404040\" points=\"283.75,-111.34 287.25,-121.34 290.75,-111.34 283.75,-111.34\"/>\n</g>\n</g>\n</svg>\n",
            "text/plain": [
              "<graphviz.sources.Source at 0x78be373f3f50>"
            ]
          },
          "metadata": {}
        }
      ]
    }
  ]
}