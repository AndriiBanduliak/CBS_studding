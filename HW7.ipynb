{
  "nbformat": 4,
  "nbformat_minor": 0,
  "metadata": {
    "colab": {
      "provenance": []
    },
    "kernelspec": {
      "name": "python3",
      "display_name": "Python 3"
    },
    "language_info": {
      "name": "python"
    }
  },
  "cells": [
    {
      "cell_type": "markdown",
      "source": [
        "Завдання 1\n",
        "\n",
        "Дано два рядки. Виведіть на екран символи, які є в обох рядках."
      ],
      "metadata": {
        "id": "FJ_j5wOKL9Uj"
      }
    },
    {
      "cell_type": "code",
      "execution_count": 1,
      "metadata": {
        "colab": {
          "base_uri": "https://localhost:8080/"
        },
        "id": "jwJ7GGInL8PZ",
        "outputId": "51275c87-b224-4915-880a-9096cc0ba531"
      },
      "outputs": [
        {
          "output_type": "stream",
          "name": "stdout",
          "text": [
            "Введіть перший рядок: gklsjkljkdsgskdlk\n",
            "Введіть другий рядок: jgkdlkgjdl\n",
            "Спільні символи: d, g, j, k, l\n"
          ]
        }
      ],
      "source": [
        "def find_common_chars():\n",
        "    string1 = input(\"Введіть перший рядок: \")\n",
        "    string2 = input(\"Введіть другий рядок: \")\n",
        "\n",
        "    set1 = set(string1)\n",
        "    set2 = set(string2)\n",
        "\n",
        "    common_characters = set1.intersection(set2)\n",
        "\n",
        "    if common_characters:\n",
        "        print(f\"Спільні символи: {', '.join(sorted(list(common_characters)))}\")\n",
        "    else:\n",
        "        print(\"Спільних символів не знайдено.\")\n",
        "\n",
        "find_common_chars()"
      ]
    },
    {
      "cell_type": "markdown",
      "source": [
        "Завдання 2\n",
        "\n",
        "Створіть програму, яка емулює роботу сервісу зі скорочення посилань. Повинна бути реалізована можливість введення початкового посилання та короткої назви і отримання початкового посилання за її назвою"
      ],
      "metadata": {
        "id": "vlrDRD6ZMNLt"
      }
    },
    {
      "cell_type": "code",
      "source": [
        "def url_shortener():\n",
        "    url_database = {}\n",
        "\n",
        "    while True:\n",
        "        print(\"\\nМеню сервісу скорочення посилань:\")\n",
        "        print(\"1. Додати нове посилання\")\n",
        "        print(\"2. Отримати повне посилання за скороченою назвою\")\n",
        "        print(\"3. Вийти\")\n",
        "\n",
        "        choice = input(\"Ваш вибір: \")\n",
        "\n",
        "        if choice == '1':\n",
        "            short_name = input(\"Введіть бажану коротку назву: \")\n",
        "            if short_name in url_database:\n",
        "                print(\"Ця назва вже зайнята. Спробуйте іншу.\")\n",
        "                continue\n",
        "\n",
        "            long_url = input(\"Введіть повне посилання: \")\n",
        "            url_database[short_name] = long_url\n",
        "            print(f\"Посилання успішно збережено: {short_name} -> {long_url}\")\n",
        "\n",
        "        elif choice == '2':\n",
        "            short_name = input(\"Введіть коротку назву для пошуку: \")\n",
        "            # Використовуємо .get() для безпечного пошуку\n",
        "            original_url = url_database.get(short_name, \"Помилка: посилання з такою назвою не знайдено.\")\n",
        "            print(f\"Оригінальне посилання: {original_url}\")\n",
        "\n",
        "        elif choice == '3':\n",
        "            print(\"Дякуємо за використання сервісу!\")\n",
        "            break\n",
        "        else:\n",
        "            print(\"Невірний вибір. Будь ласка, введіть 1, 2 або 3.\")\n",
        "\n",
        "url_shortener()"
      ],
      "metadata": {
        "colab": {
          "base_uri": "https://localhost:8080/"
        },
        "id": "8rNsb59bMPQT",
        "outputId": "79ccc58a-1f7f-449c-9e09-99ac35044be3"
      },
      "execution_count": 4,
      "outputs": [
        {
          "output_type": "stream",
          "name": "stdout",
          "text": [
            "\n",
            "Меню сервісу скорочення посилань:\n",
            "1. Додати нове посилання\n",
            "2. Отримати повне посилання за скороченою назвою\n",
            "3. Вийти\n",
            "Ваш вибір: 1\n",
            "Введіть бажану коротку назву: mail\n",
            "Введіть повне посилання: https://mail.google.com/mail/u/2/#inbox\n",
            "Посилання успішно збережено: mail -> https://mail.google.com/mail/u/2/#inbox\n",
            "\n",
            "Меню сервісу скорочення посилань:\n",
            "1. Додати нове посилання\n",
            "2. Отримати повне посилання за скороченою назвою\n",
            "3. Вийти\n",
            "Ваш вибір: 2\n",
            "Введіть коротку назву для пошуку: mail\n",
            "Оригінальне посилання: https://mail.google.com/mail/u/2/#inbox\n",
            "\n",
            "Меню сервісу скорочення посилань:\n",
            "1. Додати нове посилання\n",
            "2. Отримати повне посилання за скороченою назвою\n",
            "3. Вийти\n",
            "Ваш вибір: 3\n",
            "Дякуємо за використання сервісу!\n"
          ]
        }
      ]
    },
    {
      "cell_type": "markdown",
      "source": [
        "Завдання 3\n",
        "\n",
        "Створіть програму, яка має 2 списки цілочисельних значень та друкує список унікальних значень без повтору, які є в 1 списку (немає в другому) і навпаки."
      ],
      "metadata": {
        "id": "6TwdKtVfM79Z"
      }
    },
    {
      "cell_type": "code",
      "source": [
        "def find_symmetric_difference():\n",
        "    list1 = [1, 2, 3, 4, 5, 10]\n",
        "    list2 = [4, 5, 6, 7, 8, 10]\n",
        "\n",
        "    print(f\"Перший список: {list1}\")\n",
        "    print(f\"Другий список: {list2}\")\n",
        "\n",
        "    set1 = set(list1)\n",
        "    set2 = set(list2)\n",
        "\n",
        "\n",
        "    symmetric_diff = set1.symmetric_difference(set2)\n",
        "\n",
        "    print(f\"Унікальні значення для кожного зі списків: {sorted(list(symmetric_diff))}\")\n",
        "\n",
        "find_symmetric_difference()"
      ],
      "metadata": {
        "colab": {
          "base_uri": "https://localhost:8080/"
        },
        "id": "sU24Qwu5M97R",
        "outputId": "aea787fa-a0f4-4afb-d133-5081a7a447e7"
      },
      "execution_count": 5,
      "outputs": [
        {
          "output_type": "stream",
          "name": "stdout",
          "text": [
            "Перший список: [1, 2, 3, 4, 5, 10]\n",
            "Другий список: [4, 5, 6, 7, 8, 10]\n",
            "Унікальні значення для кожного зі списків: [1, 2, 3, 6, 7, 8]\n"
          ]
        }
      ]
    },
    {
      "cell_type": "markdown",
      "source": [
        "Завдання 4\n",
        "\n",
        "Ознайомтеся за допомогою документації з класами OrderedDict, defaultdict та ChainMap модуля collections."
      ],
      "metadata": {
        "id": "cMKSYYsQNJkx"
      }
    },
    {
      "cell_type": "code",
      "source": [
        "from collections import OrderedDict\n",
        "\n",
        "d = {}\n",
        "d['a'] = 1\n",
        "d['b'] = 2\n",
        "d['c'] = 3\n",
        "print(f\"Звичайний dict: {d}\")\n",
        "\n",
        "\n",
        "od = OrderedDict()\n",
        "od['a'] = 1\n",
        "od['b'] = 2\n",
        "od['c'] = 3\n",
        "print(f\"OrderedDict: {od}\")"
      ],
      "metadata": {
        "colab": {
          "base_uri": "https://localhost:8080/"
        },
        "id": "9GOjqG9aNM6t",
        "outputId": "40cd01dc-f3c6-4c96-b3fd-337616c5dae3"
      },
      "execution_count": 6,
      "outputs": [
        {
          "output_type": "stream",
          "name": "stdout",
          "text": [
            "Звичайний dict: {'a': 1, 'b': 2, 'c': 3}\n",
            "OrderedDict: OrderedDict({'a': 1, 'b': 2, 'c': 3})\n"
          ]
        }
      ]
    },
    {
      "cell_type": "markdown",
      "source": [
        "Завдання 5\n",
        "\n",
        "Є рядок, в якому зберігаються 1000 слів. Створіть словник із ключами - унікальними словами та значеннями - кількістю повторів кожного слова у послідовності."
      ],
      "metadata": {
        "id": "XN7OVx3PNUjd"
      }
    },
    {
      "cell_type": "code",
      "source": [
        "from collections import Counter\n",
        "import re\n",
        "\n",
        "def count_word_frequency():\n",
        "    text_data = \"\"\"\n",
        "    python is a high-level, general-purpose programming language. its design\n",
        "    philosophy emphasizes code readability with the use of significant indentation.\n",
        "    python is dynamically typed and garbage-collected. it supports multiple\n",
        "    programming paradigms, including structured, object-oriented and functional\n",
        "    programming. python is often described as a batteries included language due\n",
        "    to its comprehensive standard library.\n",
        "    \"\"\"\n",
        "\n",
        "    cleaned_text = re.sub(r'[^\\w\\s]', '', text_data.lower())\n",
        "\n",
        "    words = cleaned_text.split()\n",
        "\n",
        "    word_counts = Counter(words)\n",
        "\n",
        "    print(\"Кількість повторів кожного слова:\")\n",
        "    for word, count in word_counts.items():\n",
        "        print(f\"'{word}': {count}\")\n",
        "\n",
        "count_word_frequency()"
      ],
      "metadata": {
        "colab": {
          "base_uri": "https://localhost:8080/"
        },
        "id": "Biy2xzlJNWns",
        "outputId": "deeedf07-fc79-4358-da24-ba41de67f898"
      },
      "execution_count": 7,
      "outputs": [
        {
          "output_type": "stream",
          "name": "stdout",
          "text": [
            "Кількість повторів кожного слова:\n",
            "'python': 3\n",
            "'is': 3\n",
            "'a': 2\n",
            "'highlevel': 1\n",
            "'generalpurpose': 1\n",
            "'programming': 3\n",
            "'language': 2\n",
            "'its': 2\n",
            "'design': 1\n",
            "'philosophy': 1\n",
            "'emphasizes': 1\n",
            "'code': 1\n",
            "'readability': 1\n",
            "'with': 1\n",
            "'the': 1\n",
            "'use': 1\n",
            "'of': 1\n",
            "'significant': 1\n",
            "'indentation': 1\n",
            "'dynamically': 1\n",
            "'typed': 1\n",
            "'and': 2\n",
            "'garbagecollected': 1\n",
            "'it': 1\n",
            "'supports': 1\n",
            "'multiple': 1\n",
            "'paradigms': 1\n",
            "'including': 1\n",
            "'structured': 1\n",
            "'objectoriented': 1\n",
            "'functional': 1\n",
            "'often': 1\n",
            "'described': 1\n",
            "'as': 1\n",
            "'batteries': 1\n",
            "'included': 1\n",
            "'due': 1\n",
            "'to': 1\n",
            "'comprehensive': 1\n",
            "'standard': 1\n",
            "'library': 1\n"
          ]
        }
      ]
    },
    {
      "cell_type": "markdown",
      "source": [
        "Завдання 6\n",
        "\n",
        "Створіть прототип програми «Бібліотека», де є можливість перегляду та внесення змін за структурою: автор: твір. Передбачте можливість виведення на екран сортування за автором та твором."
      ],
      "metadata": {
        "id": "nOk3uB2SNk9A"
      }
    },
    {
      "cell_type": "code",
      "source": [
        "def library_prototype():\n",
        "    library = {\n",
        "        \"Джордж Орвелл\": [\"1984\", \"Ферма тварин\"],\n",
        "        \"Рей Бредбері\": [\"451 градус за Фаренгейтом\"],\n",
        "        \"Агата Крісті\": [\"Вбивство у «Східному експресі»\"]\n",
        "    }\n",
        "\n",
        "    def print_books(books_dict):\n",
        "        if not books_dict:\n",
        "            print(\"Бібліотека порожня.\")\n",
        "            return\n",
        "        for author, works in books_dict.items():\n",
        "            print(f\"- {author}: {', '.join(works)}\")\n",
        "\n",
        "    while True:\n",
        "        print(\"\\n--- Меню бібліотеки ---\")\n",
        "        print(\"1. Переглянути всі книги (за авторами)\")\n",
        "        print(\"2. Переглянути книги, відсортовані за твором\")\n",
        "        print(\"3. Додати нову книгу\")\n",
        "        print(\"4. Вийти\")\n",
        "        choice = input(\"Ваш вибір: \")\n",
        "\n",
        "        if choice == '1':\n",
        "            print(\"\\nСортування за авторами:\")\n",
        "            sorted_by_author = dict(sorted(library.items()))\n",
        "            print_books(sorted_by_author)\n",
        "\n",
        "        elif choice == '2':\n",
        "            print(\"\\nСортування за назвою твору:\")\n",
        "            all_books = []\n",
        "            for author, works in library.items():\n",
        "                for work in works:\n",
        "                    all_books.append((work, author))\n",
        "\n",
        "            for work, author in sorted(all_books):\n",
        "                print(f\"- {work} (Автор: {author})\")\n",
        "\n",
        "        elif choice == '3':\n",
        "            author = input(\"Введіть автора: \").strip()\n",
        "            work = input(\"Введіть назву твору: \").strip()\n",
        "\n",
        "            library.setdefault(author, []).append(work)\n",
        "            print(\"Книгу успішно додано!\")\n",
        "\n",
        "        elif choice == '4':\n",
        "            break\n",
        "\n",
        "library_prototype()"
      ],
      "metadata": {
        "colab": {
          "base_uri": "https://localhost:8080/"
        },
        "id": "kP4JgDCmNoAT",
        "outputId": "00a063f0-111b-4085-dbf5-17fb54fd356e"
      },
      "execution_count": 8,
      "outputs": [
        {
          "name": "stdout",
          "output_type": "stream",
          "text": [
            "\n",
            "--- Меню бібліотеки ---\n",
            "1. Переглянути всі книги (за авторами)\n",
            "2. Переглянути книги, відсортовані за твором\n",
            "3. Додати нову книгу\n",
            "4. Вийти\n",
            "Ваш вибір: 2\n",
            "\n",
            "Сортування за назвою твору:\n",
            "- 1984 (Автор: Джордж Орвелл)\n",
            "- 451 градус за Фаренгейтом (Автор: Рей Бредбері)\n",
            "- Вбивство у «Східному експресі» (Автор: Агата Крісті)\n",
            "- Ферма тварин (Автор: Джордж Орвелл)\n",
            "\n",
            "--- Меню бібліотеки ---\n",
            "1. Переглянути всі книги (за авторами)\n",
            "2. Переглянути книги, відсортовані за твором\n",
            "3. Додати нову книгу\n",
            "4. Вийти\n",
            "Ваш вибір: 4\n"
          ]
        }
      ]
    },
    {
      "cell_type": "markdown",
      "source": [
        "Завдання 7\n",
        "\n",
        "Створіть прототип програми «Облік кадрів», в якій є можливість перегляду та внесення змін до структури(реалізуйте інтерфейс(меню), за допомогою якого можна робити маніпуляції з даними):\n",
        "\n",
        "прізвище:\n",
        "\n",
        "    посада: ...\n",
        "\n",
        "    досвід роботи: …\n",
        "\n",
        "    портфоліо: …\n",
        "\n",
        "    коефіцієнт ефективності: …\n",
        "\n",
        "    стек технологій: …\n",
        "\n",
        "    зарплата: …\n",
        "\n",
        "Передбачте можливість виведення на екран сортування за прізвищем та найефективнішим співробітником."
      ],
      "metadata": {
        "id": "sxCJLGEMNxgX"
      }
    },
    {
      "cell_type": "code",
      "source": [
        "def hr_system():\n",
        "    hr_records = {\n",
        "        \"Петренко\": {\n",
        "            \"посада\": \"Розробник\", \"досвід роботи\": 5, \"портфоліо\": \"petrenko.dev\",\n",
        "            \"коефіцієнт ефективності\": 0.95, \"стек технологій\": [\"Python\", \"Django\"], \"зарплата\": 4000\n",
        "        },\n",
        "        \"Іваненко\": {\n",
        "            \"посада\": \"Тестувальник\", \"досвід роботи\": 3, \"портфоліо\": \"ivanenko.test\",\n",
        "            \"коефіцієнт ефективності\": 0.89, \"стек технологій\": [\"PyTest\", \"Selenium\"], \"зарплата\": 2500\n",
        "        },\n",
        "        \"Сидоренко\": {\n",
        "            \"посада\": \"Менеджер проєктів\", \"досвід роботи\": 7, \"портфоліо\": \"sidorenko.pm\",\n",
        "            \"коефіцієнт ефективності\": 0.98, \"стек технологій\": [\"Jira\", \"Agile\"], \"зарплата\": 5000\n",
        "        }\n",
        "    }\n",
        "\n",
        "    def print_employee(name, details):\n",
        "        print(f\"\\n--- {name} ---\")\n",
        "        for key, value in details.items():\n",
        "            print(f\"  {key.capitalize()}: {value}\")\n",
        "        print(\"-\" * (len(name) + 8))\n",
        "\n",
        "    while True:\n",
        "        print(\"\\n*** Система Обліку Кадрів ***\")\n",
        "        print(\"1. Переглянути всіх співробітників\")\n",
        "        print(\"2. Додати нового співробітника\")\n",
        "        print(\"3. Сортувати за прізвищем\")\n",
        "        print(\"4. Показати найефективніших співробітників\")\n",
        "        print(\"5. Вийти\")\n",
        "        choice = input(\"Ваш вибір: \")\n",
        "\n",
        "        if choice == '1':\n",
        "            if not hr_records: print(\"Немає записів.\")\n",
        "            for name, details in hr_records.items():\n",
        "                print_employee(name, details)\n",
        "\n",
        "        elif choice == '2':\n",
        "            name = input(\"Прізвище: \")\n",
        "            hr_records[name] = {\n",
        "                \"посада\": input(\"Посада: \"),\n",
        "                \"досвід роботи\": int(input(\"Досвід роботи (років): \")),\n",
        "                \"портфоліо\": input(\"Портфоліо (URL): \"),\n",
        "                \"коефіцієнт ефективності\": float(input(\"Коефіцієнт ефективності (0.0-1.0): \")),\n",
        "                \"стек технологій\": [tech.strip() for tech in input(\"Стек технологій (через кому): \").split(',')],\n",
        "                \"зарплата\": int(input(\"Зарплата ($): \"))\n",
        "            }\n",
        "            print(\"Співробітника додано.\")\n",
        "\n",
        "        elif choice == '3':\n",
        "            print(\"\\nСортування за прізвищем:\")\n",
        "            for name in sorted(hr_records.keys()):\n",
        "                print_employee(name, hr_records[name])\n",
        "\n",
        "        elif choice == '4':\n",
        "            print(\"\\nСортування за ефективністю (від найвищої до найнижчої):\")\n",
        "            sorted_by_eff = sorted(hr_records.items(), key=lambda item: item[1]['коефіцієнт ефективності'], reverse=True)\n",
        "            for name, details in sorted_by_eff:\n",
        "                print_employee(name, details)\n",
        "\n",
        "        elif choice == '5':\n",
        "            break\n",
        "\n",
        "hr_system()"
      ],
      "metadata": {
        "colab": {
          "base_uri": "https://localhost:8080/"
        },
        "id": "KfAVsFkcN1JQ",
        "outputId": "f41455d5-9864-4c38-9fa5-ffa34fcb1187"
      },
      "execution_count": 9,
      "outputs": [
        {
          "name": "stdout",
          "output_type": "stream",
          "text": [
            "\n",
            "*** Система Обліку Кадрів ***\n",
            "1. Переглянути всіх співробітників\n",
            "2. Додати нового співробітника\n",
            "3. Сортувати за прізвищем\n",
            "4. Показати найефективніших співробітників\n",
            "5. Вийти\n",
            "Ваш вибір: 1\n",
            "\n",
            "--- Петренко ---\n",
            "  Посада: Розробник\n",
            "  Досвід роботи: 5\n",
            "  Портфоліо: petrenko.dev\n",
            "  Коефіцієнт ефективності: 0.95\n",
            "  Стек технологій: ['Python', 'Django']\n",
            "  Зарплата: 4000\n",
            "----------------\n",
            "\n",
            "--- Іваненко ---\n",
            "  Посада: Тестувальник\n",
            "  Досвід роботи: 3\n",
            "  Портфоліо: ivanenko.test\n",
            "  Коефіцієнт ефективності: 0.89\n",
            "  Стек технологій: ['PyTest', 'Selenium']\n",
            "  Зарплата: 2500\n",
            "----------------\n",
            "\n",
            "--- Сидоренко ---\n",
            "  Посада: Менеджер проєктів\n",
            "  Досвід роботи: 7\n",
            "  Портфоліо: sidorenko.pm\n",
            "  Коефіцієнт ефективності: 0.98\n",
            "  Стек технологій: ['Jira', 'Agile']\n",
            "  Зарплата: 5000\n",
            "-----------------\n",
            "\n",
            "*** Система Обліку Кадрів ***\n",
            "1. Переглянути всіх співробітників\n",
            "2. Додати нового співробітника\n",
            "3. Сортувати за прізвищем\n",
            "4. Показати найефективніших співробітників\n",
            "5. Вийти\n",
            "Ваш вибір: 5\n"
          ]
        }
      ]
    }
  ]
}